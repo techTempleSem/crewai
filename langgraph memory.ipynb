{
 "cells": [
  {
   "cell_type": "code",
   "execution_count": 1,
   "metadata": {},
   "outputs": [],
   "source": [
    "import os\n",
    "import warnings\n",
    "from dotenv import load_dotenv\n",
    "load_dotenv()\n",
    "OPENAI_API_KEY = os.getenv(\"OPENAI_API_KEY\")\n",
    "TAVILY_API_KEY = os.getenv(\"TAVILY_API_KEY\")\n",
    "warnings.filterwarnings('ignore')\n",
    "\n",
    "os.environ[\"TAVILY_API_KEY\"]=TAVILY_API_KEY\n",
    "os.environ['OPENAI_API_KEY']=OPENAI_API_KEY"
   ]
  },
  {
   "cell_type": "code",
   "execution_count": 4,
   "metadata": {},
   "outputs": [],
   "source": [
    "from typing import Annotated\n",
    "from typing_extensions import TypedDict\n",
    "from langgraph.graph.message import add_messages\n",
    "from langgraph.checkpoint.memory import MemorySaver\n",
    "\n",
    "memory = MemorySaver()\n",
    "\n",
    "class State(TypedDict):\n",
    "    messages: Annotated[list, add_messages]"
   ]
  },
  {
   "cell_type": "code",
   "execution_count": 5,
   "metadata": {},
   "outputs": [],
   "source": [
    "from langchain_community.tools.tavily_search import TavilySearchResults\n",
    "from langgraph.prebuilt import ToolNode, tools_condition\n",
    "\n",
    "tool = TavilySearchResults(max_results=2)\n",
    "tools=[tool]\n",
    "tool_node = ToolNode(tools)"
   ]
  },
  {
   "cell_type": "code",
   "execution_count": 6,
   "metadata": {},
   "outputs": [],
   "source": [
    "import json\n",
    "from langchain_core.messages import ToolMessage\n",
    "class BasicToolNode:\n",
    "    \"\"\"A node that runs the tools requested in the last AIMessage\"\"\"\n",
    "    def __init__(self, tools:list) -> None:\n",
    "        self.tools_by_name={tool.name: tool for tool in tools}\n",
    "    \n",
    "    def __call__(self, inputs:dict):\n",
    "        if messages := inputs.get(\"messages\",[]):\n",
    "            message = messages[-1]\n",
    "        else:\n",
    "            raise ValueError(\"no message found in input\")\n",
    "        outputs=[]\n",
    "        for tool_call in message.tool_calls:\n",
    "            tool_result = self.tools_by_name[tool_call[\"name\"]].invoke(\n",
    "                tool_call[\"args\"]\n",
    "            )\n",
    "            outputs.append(\n",
    "                ToolMessage(\n",
    "                    content=json.dumps(tool_result),\n",
    "                    name=tool_call[\"name\"],\n",
    "                    tool_call_id=tool_call[\"id\"]\n",
    "                )\n",
    "            )\n",
    "        return {\"messages\": outputs}"
   ]
  },
  {
   "cell_type": "code",
   "execution_count": 7,
   "metadata": {},
   "outputs": [],
   "source": [
    "from langchain_openai import ChatOpenAI\n",
    "llm=ChatOpenAI(model=\"gpt-4o-mini\")\n",
    "llm_with_toold = llm.bind_tools(tools)\n",
    "\n",
    "def chatbot(state: State):\n",
    "    result=llm_with_toold.invoke(state[\"messages\"])\n",
    "    return {\"messages\": [result]}"
   ]
  },
  {
   "cell_type": "code",
   "execution_count": 9,
   "metadata": {},
   "outputs": [],
   "source": [
    "from langgraph.graph import StateGraph\n",
    "graph_builder=StateGraph(State)\n",
    "graph_builder.add_node(\"chatbot\", chatbot)\n",
    "graph_builder.add_node(\"tools\", tool_node)\n",
    "\n",
    "graph_builder.add_edge(\"tools\", \"chatbot\")\n",
    "graph_builder.add_conditional_edges(\"chatbot\", tools_condition)\n",
    "\n",
    "graph_builder.set_entry_point(\"chatbot\")\n",
    "graph=graph_builder.compile(checkpointer=memory)"
   ]
  },
  {
   "cell_type": "code",
   "execution_count": 10,
   "metadata": {},
   "outputs": [
    {
     "name": "stdout",
     "output_type": "stream",
     "text": [
      "Assistant: \n",
      "Assistant: [{\"url\": \"https://namu.wiki/w/대한민국+대통령\", \"content\": \"대한민국 대통령은 대한민국의 대통령 기관(機關)·직위(職位) 및 이를 수행하는 인물을 가리킨다. 대한민국의 현직 대통령은 제20대 윤석열이며, 임기는 2022년 5월 10일부터 2027년 5월 9일까지이다. 다만 2024년 12월 14일 부터는 같은 날에 열린 윤석열 대통령 탄핵소추안이 가결되어 윤석열 대통령의\"}, {\"url\": \"https://ko.wikipedia.org/wiki/대한민국의_대통령_목록\", \"content\": \"개인 도구 대한민국의 대통령 목록 도구 위키백과, 우리 모두의 백과사전. 제9차 개헌 이후의 현행 헌법에 따라 대통령의 임기는 5년이며 중임할 수 없지만,[1] 제9차 개헌 이전의 여러 헌법에서는 대통령의 임기가 고정되지 않았으며, 그로 인해 대통령직을 수행한 개인과 대통령 임기의 대수가 불일치하게 되었다. (생몰년)   정당  대[b]    임기  선거 / 득표율[5] ↑ 가 나 2016년 헌법에 위배되는 박근혜-최순실 게이트, 비선실세 의혹, 대기업 뇌물 의혹 등을 사유로 박근혜에 대한 탄핵소추안이 국회에서 가결되었고, 대통령 권한이 정지되어 황교안 국무총리가 권한대행을 맡았다.[27] 결과적으로 2017년 3월 10일 박근혜는 헌법재판소에 의해 전원일치로 대통령직에서 파면되었다.[28][29] ↑ 허정 (1979). ↑ KBS 뉴스 (2004). ↑ KBS 뉴스 (2017). ↑ 중앙일보 후보자 정보 (윤석열). 14 김영삼15 김대중16 노무현17 이명박18 박근혜19 문재인20 윤석열 대한민국의 대통령과 3부요인 및 헌법기관장 분류: 알찬 목록 후보 문서대한민국의 대통령대한민국 정치에 관한 목록대통령 목록대한민국 사람 목록 위키백과 소개\"}]\n",
      "Assistant: 현재 대한민국의 대통령은 윤석열이며, 그의 임기는 2022년 5월 10일부터 2027년 5월 9일까지입니다. 더 자세한 정보는 [여기](https://namu.wiki/w/대한민국+대통령)에서 확인할 수 있습니다.\n",
      "Assistant: 당신의 첫 질문은 \"대한민국의 대통령은 누구야?\"였습니다.\n",
      "GoodBye\n"
     ]
    }
   ],
   "source": [
    "config={\"configurable\": {\"thread_id\": \"1\"}}\n",
    "while True:\n",
    "    user_input=input(\"User : \")\n",
    "    if user_input.lower() in [\"quit\",\"q\",\"exit\"]:\n",
    "        print(\"GoodBye\")\n",
    "        break\n",
    "    for event in graph.stream({\"messages\": (\"user\", user_input)}, config):\n",
    "        for value in event.values():\n",
    "            print(\"Assistant:\", value[\"messages\"][-1].content)"
   ]
  },
  {
   "cell_type": "code",
   "execution_count": 11,
   "metadata": {},
   "outputs": [
    {
     "data": {
      "text/plain": [
       "StateSnapshot(values={'messages': [HumanMessage(content='대한민국의 대통령은 누구야?', additional_kwargs={}, response_metadata={}, id='65a3e63f-c8f4-4146-9263-4df1d94ec646'), AIMessage(content='', additional_kwargs={'tool_calls': [{'id': 'call_vCKCl9fpq7kfK8QDZDFWWV1h', 'function': {'arguments': '{\"query\":\"대한민국의 대통령\"}', 'name': 'tavily_search_results_json'}, 'type': 'function'}], 'refusal': None}, response_metadata={'token_usage': {'completion_tokens': 22, 'prompt_tokens': 87, 'total_tokens': 109, 'completion_tokens_details': {'accepted_prediction_tokens': 0, 'audio_tokens': 0, 'reasoning_tokens': 0, 'rejected_prediction_tokens': 0}, 'prompt_tokens_details': {'audio_tokens': 0, 'cached_tokens': 0}}, 'model_name': 'gpt-4o-mini-2024-07-18', 'system_fingerprint': 'fp_72ed7ab54c', 'finish_reason': 'tool_calls', 'logprobs': None}, id='run-8cee6112-f345-433b-9619-120c8c02ee13-0', tool_calls=[{'name': 'tavily_search_results_json', 'args': {'query': '대한민국의 대통령'}, 'id': 'call_vCKCl9fpq7kfK8QDZDFWWV1h', 'type': 'tool_call'}], usage_metadata={'input_tokens': 87, 'output_tokens': 22, 'total_tokens': 109, 'input_token_details': {'audio': 0, 'cache_read': 0}, 'output_token_details': {'audio': 0, 'reasoning': 0}}), ToolMessage(content='[{\"url\": \"https://namu.wiki/w/대한민국+대통령\", \"content\": \"대한민국 대통령은 대한민국의 대통령 기관(機關)·직위(職位) 및 이를 수행하는 인물을 가리킨다. 대한민국의 현직 대통령은 제20대 윤석열이며, 임기는 2022년 5월 10일부터 2027년 5월 9일까지이다. 다만 2024년 12월 14일 부터는 같은 날에 열린 윤석열 대통령 탄핵소추안이 가결되어 윤석열 대통령의\"}, {\"url\": \"https://ko.wikipedia.org/wiki/대한민국의_대통령_목록\", \"content\": \"개인 도구 대한민국의 대통령 목록 도구 위키백과, 우리 모두의 백과사전. 제9차 개헌 이후의 현행 헌법에 따라 대통령의 임기는 5년이며 중임할 수 없지만,[1] 제9차 개헌 이전의 여러 헌법에서는 대통령의 임기가 고정되지 않았으며, 그로 인해 대통령직을 수행한 개인과 대통령 임기의 대수가 불일치하게 되었다. (생몰년)   정당  대[b]    임기  선거 / 득표율[5] ↑ 가 나 2016년 헌법에 위배되는 박근혜-최순실 게이트, 비선실세 의혹, 대기업 뇌물 의혹 등을 사유로 박근혜에 대한 탄핵소추안이 국회에서 가결되었고, 대통령 권한이 정지되어 황교안 국무총리가 권한대행을 맡았다.[27] 결과적으로 2017년 3월 10일 박근혜는 헌법재판소에 의해 전원일치로 대통령직에서 파면되었다.[28][29] ↑ 허정 (1979). ↑ KBS 뉴스 (2004). ↑ KBS 뉴스 (2017). ↑ 중앙일보 후보자 정보 (윤석열). 14 김영삼15 김대중16 노무현17 이명박18 박근혜19 문재인20 윤석열 대한민국의 대통령과 3부요인 및 헌법기관장 분류: 알찬 목록 후보 문서대한민국의 대통령대한민국 정치에 관한 목록대통령 목록대한민국 사람 목록 위키백과 소개\"}]', name='tavily_search_results_json', id='ae9b71b6-77a1-4f79-b8d7-ff936ba27a56', tool_call_id='call_vCKCl9fpq7kfK8QDZDFWWV1h', artifact={'query': '대한민국의 대통령', 'follow_up_questions': None, 'answer': None, 'images': [], 'results': [{'title': '대한민국 대통령 - 나무위키', 'url': 'https://namu.wiki/w/대한민국+대통령', 'content': '대한민국 대통령은 대한민국의 대통령 기관(機關)·직위(職位) 및 이를 수행하는 인물을 가리킨다. 대한민국의 현직 대통령은 제20대 윤석열이며, 임기는 2022년 5월 10일부터 2027년 5월 9일까지이다. 다만 2024년 12월 14일 부터는 같은 날에 열린 윤석열 대통령 탄핵소추안이 가결되어 윤석열 대통령의', 'score': 0.882276, 'raw_content': None}, {'title': '대한민국의 대통령 목록 - 위키백과, 우리 모두의 백과사전', 'url': 'https://ko.wikipedia.org/wiki/대한민국의_대통령_목록', 'content': '개인 도구 대한민국의 대통령 목록 도구 위키백과, 우리 모두의 백과사전. 제9차 개헌 이후의 현행 헌법에 따라 대통령의 임기는 5년이며 중임할 수 없지만,[1] 제9차 개헌 이전의 여러 헌법에서는 대통령의 임기가 고정되지 않았으며, 그로 인해 대통령직을 수행한 개인과 대통령 임기의 대수가 불일치하게 되었다. (생몰년)   정당  대[b]    임기  선거 / 득표율[5] ↑ 가 나 2016년 헌법에 위배되는 박근혜-최순실 게이트, 비선실세 의혹, 대기업 뇌물 의혹 등을 사유로 박근혜에 대한 탄핵소추안이 국회에서 가결되었고, 대통령 권한이 정지되어 황교안 국무총리가 권한대행을 맡았다.[27] 결과적으로 2017년 3월 10일 박근혜는 헌법재판소에 의해 전원일치로 대통령직에서 파면되었다.[28][29] ↑ 허정 (1979). ↑ KBS 뉴스 (2004). ↑ KBS 뉴스 (2017). ↑ 중앙일보 후보자 정보 (윤석열). 14 김영삼15 김대중16 노무현17 이명박18 박근혜19 문재인20 윤석열 대한민국의 대통령과 3부요인 및 헌법기관장 분류: 알찬 목록 후보 문서대한민국의 대통령대한민국 정치에 관한 목록대통령 목록대한민국 사람 목록 위키백과 소개', 'score': 0.8098936, 'raw_content': None}], 'response_time': 1.6}), AIMessage(content='현재 대한민국의 대통령은 윤석열이며, 그의 임기는 2022년 5월 10일부터 2027년 5월 9일까지입니다. 더 자세한 정보는 [여기](https://namu.wiki/w/대한민국+대통령)에서 확인할 수 있습니다.', additional_kwargs={'refusal': None}, response_metadata={'token_usage': {'completion_tokens': 65, 'prompt_tokens': 638, 'total_tokens': 703, 'completion_tokens_details': {'accepted_prediction_tokens': 0, 'audio_tokens': 0, 'reasoning_tokens': 0, 'rejected_prediction_tokens': 0}, 'prompt_tokens_details': {'audio_tokens': 0, 'cached_tokens': 0}}, 'model_name': 'gpt-4o-mini-2024-07-18', 'system_fingerprint': 'fp_bd83329f63', 'finish_reason': 'stop', 'logprobs': None}, id='run-992ca0f3-cd89-4ea8-a196-8748117a114c-0', usage_metadata={'input_tokens': 638, 'output_tokens': 65, 'total_tokens': 703, 'input_token_details': {'audio': 0, 'cache_read': 0}, 'output_token_details': {'audio': 0, 'reasoning': 0}}), HumanMessage(content='내 첫 질문이 뭐였어?', additional_kwargs={}, response_metadata={}, id='7a36c46e-6607-4c25-81c8-30f9bcea2772'), AIMessage(content='당신의 첫 질문은 \"대한민국의 대통령은 누구야?\"였습니다.', additional_kwargs={'refusal': None}, response_metadata={'token_usage': {'completion_tokens': 19, 'prompt_tokens': 718, 'total_tokens': 737, 'completion_tokens_details': {'accepted_prediction_tokens': 0, 'audio_tokens': 0, 'reasoning_tokens': 0, 'rejected_prediction_tokens': 0}, 'prompt_tokens_details': {'audio_tokens': 0, 'cached_tokens': 0}}, 'model_name': 'gpt-4o-mini-2024-07-18', 'system_fingerprint': 'fp_bd83329f63', 'finish_reason': 'stop', 'logprobs': None}, id='run-c44237e7-7b30-47b9-a7d2-9887ab552fa8-0', usage_metadata={'input_tokens': 718, 'output_tokens': 19, 'total_tokens': 737, 'input_token_details': {'audio': 0, 'cache_read': 0}, 'output_token_details': {'audio': 0, 'reasoning': 0}})]}, next=(), config={'configurable': {'thread_id': '1', 'checkpoint_ns': '', 'checkpoint_id': '1efd06f7-2a2f-6781-8006-589f233c4b2a'}}, metadata={'source': 'loop', 'writes': {'chatbot': {'messages': [AIMessage(content='당신의 첫 질문은 \"대한민국의 대통령은 누구야?\"였습니다.', additional_kwargs={'refusal': None}, response_metadata={'token_usage': {'completion_tokens': 19, 'prompt_tokens': 718, 'total_tokens': 737, 'completion_tokens_details': {'accepted_prediction_tokens': 0, 'audio_tokens': 0, 'reasoning_tokens': 0, 'rejected_prediction_tokens': 0}, 'prompt_tokens_details': {'audio_tokens': 0, 'cached_tokens': 0}}, 'model_name': 'gpt-4o-mini-2024-07-18', 'system_fingerprint': 'fp_bd83329f63', 'finish_reason': 'stop', 'logprobs': None}, id='run-c44237e7-7b30-47b9-a7d2-9887ab552fa8-0', usage_metadata={'input_tokens': 718, 'output_tokens': 19, 'total_tokens': 737, 'input_token_details': {'audio': 0, 'cache_read': 0}, 'output_token_details': {'audio': 0, 'reasoning': 0}})]}}, 'thread_id': '1', 'step': 6, 'parents': {}}, created_at='2025-01-11T22:57:35.500480+00:00', parent_config={'configurable': {'thread_id': '1', 'checkpoint_ns': '', 'checkpoint_id': '1efd06f7-2303-643a-8005-e46e39666f9f'}}, tasks=())"
      ]
     },
     "execution_count": 11,
     "metadata": {},
     "output_type": "execute_result"
    }
   ],
   "source": [
    "snapshot = graph.get_state(config)\n",
    "snapshot"
   ]
  },
  {
   "cell_type": "code",
   "execution_count": 12,
   "metadata": {},
   "outputs": [
    {
     "data": {
      "text/plain": [
       "{'messages': [HumanMessage(content='내 첫 질문이 뭐였어?', additional_kwargs={}, response_metadata={}, id='fd715116-b226-4383-8f44-4fc6aab013df'),\n",
       "  AIMessage(content='죄송하지만, 이전 대화 내용을 기억할 수 없습니다. 새로운 질문이 있으시면 도와드리겠습니다!', additional_kwargs={'refusal': None}, response_metadata={'token_usage': {'completion_tokens': 26, 'prompt_tokens': 87, 'total_tokens': 113, 'completion_tokens_details': {'accepted_prediction_tokens': 0, 'audio_tokens': 0, 'reasoning_tokens': 0, 'rejected_prediction_tokens': 0}, 'prompt_tokens_details': {'audio_tokens': 0, 'cached_tokens': 0}}, 'model_name': 'gpt-4o-mini-2024-07-18', 'system_fingerprint': 'fp_72ed7ab54c', 'finish_reason': 'stop', 'logprobs': None}, id='run-1d666c9e-ddab-461c-9460-f8a9fbdc4a92-0', usage_metadata={'input_tokens': 87, 'output_tokens': 26, 'total_tokens': 113, 'input_token_details': {'audio': 0, 'cache_read': 0}, 'output_token_details': {'audio': 0, 'reasoning': 0}})]}"
      ]
     },
     "execution_count": 12,
     "metadata": {},
     "output_type": "execute_result"
    }
   ],
   "source": [
    "config2={\"configurable\": {\"thread_id\": \"2\"}}\n",
    "graph.invoke({\"messages\": [{\"role\": \"user\", \"content\": \"내 첫 질문이 뭐였어?\"}]}, config2)"
   ]
  },
  {
   "cell_type": "code",
   "execution_count": 15,
   "metadata": {},
   "outputs": [],
   "source": [
    "def filter_messages(messages: list):\n",
    "    return messages[-2:]\n",
    "\n",
    "def chatbot(state: State):\n",
    "    messages=filter_messages(state[\"messages\"])\n",
    "    result=llm_with_toold.invoke(messages)\n",
    "    return {\"messages\": [result]}\n",
    "graph_builder=StateGraph(State)\n",
    "graph_builder.add_node(\"chatbot\", chatbot)\n",
    "graph_builder.add_node(\"tools\", tool_node)\n",
    "\n",
    "graph_builder.add_edge(\"tools\", \"chatbot\")\n",
    "graph_builder.add_conditional_edges(\"chatbot\", tools_condition)\n",
    "\n",
    "graph_builder.set_entry_point(\"chatbot\")\n",
    "graph=graph_builder.compile(checkpointer=memory)"
   ]
  },
  {
   "cell_type": "code",
   "execution_count": 19,
   "metadata": {},
   "outputs": [
    {
     "name": "stdout",
     "output_type": "stream",
     "text": [
      "================================\u001b[1m Human Message \u001b[0m=================================\n",
      "\n",
      "Hi! I'm bob and I like soccer\n",
      "==================================\u001b[1m Ai Message \u001b[0m==================================\n",
      "\n",
      "Hi Bob! It's great to meet a soccer fan. Do you have a favorite team or player? Or is there a particular league or tournament you enjoy watching?\n",
      "================================\u001b[1m Human Message \u001b[0m=================================\n",
      "\n",
      "What's my name?\n",
      "==================================\u001b[1m Ai Message \u001b[0m==================================\n",
      "\n",
      "Your name is Bob. How can I assist you today?\n",
      "================================\u001b[1m Human Message \u001b[0m=================================\n",
      "\n",
      "What's my favorite?\n",
      "==================================\u001b[1m Ai Message \u001b[0m==================================\n",
      "\n",
      "I don't have information about your preferences or favorites. If you share what you're interested in, I can help you with that!\n"
     ]
    }
   ],
   "source": [
    "from langchain_core.messages import HumanMessage\n",
    "config={\"configurable\": {\"thread_id\": \"20\"}}\n",
    "input_message = HumanMessage(content=\"Hi! I'm bob and I like soccer\")\n",
    "for event in graph.stream({\"messages\": [input_message]}, config, stream_mode=\"values\"):\n",
    "    event[\"messages\"][-1].pretty_print()\n",
    "\n",
    "input_message = HumanMessage(content=\"What's my name?\")\n",
    "for event in graph.stream({\"messages\": [input_message]}, config, stream_mode=\"values\"):\n",
    "    event[\"messages\"][-1].pretty_print()\n",
    "\n",
    "\n",
    "input_message = HumanMessage(content=\"What's my favorite?\")\n",
    "for event in graph.stream({\"messages\": [input_message]}, config, stream_mode=\"values\"):\n",
    "    event[\"messages\"][-1].pretty_print()"
   ]
  },
  {
   "cell_type": "code",
   "execution_count": null,
   "metadata": {},
   "outputs": [],
   "source": []
  }
 ],
 "metadata": {
  "kernelspec": {
   "display_name": "crewai",
   "language": "python",
   "name": "python3"
  },
  "language_info": {
   "codemirror_mode": {
    "name": "ipython",
    "version": 3
   },
   "file_extension": ".py",
   "mimetype": "text/x-python",
   "name": "python",
   "nbconvert_exporter": "python",
   "pygments_lexer": "ipython3",
   "version": "3.11.11"
  }
 },
 "nbformat": 4,
 "nbformat_minor": 2
}
