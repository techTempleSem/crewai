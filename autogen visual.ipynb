{
 "cells": [
  {
   "cell_type": "code",
   "execution_count": 1,
   "metadata": {},
   "outputs": [],
   "source": [
    "import os\n",
    "import warnings\n",
    "from dotenv import load_dotenv\n",
    "load_dotenv()\n",
    "OPENAI_API_KEY = os.getenv(\"OPENAI_API_KEY\")\n",
    "SERPER_API_KEY = os.getenv(\"SERPER_API_KEY\")\n",
    "ANTHROPIC_API_KEY = os.getenv(\"ANTHROPIC_API_KEY\")\n",
    "warnings.filterwarnings('ignore')\n",
    "\n",
    "os.environ[\"SERPER_API_KEY\"]=SERPER_API_KEY\n",
    "os.environ['OPENAI_API_KEY']=OPENAI_API_KEY\n",
    "os.environ[\"ANTHROPIC_API_KEY\"]=ANTHROPIC_API_KEY"
   ]
  },
  {
   "cell_type": "code",
   "execution_count": 6,
   "metadata": {},
   "outputs": [],
   "source": [
    "import autogen\n",
    "import matplotlib.pyplot as plt\n",
    "import pandas as ps\n",
    "import seaborn as sns\n",
    "from IPython.display import Image\n",
    "from autogen.coding import LocalCommandLineCodeExecutor\n",
    "\n",
    "config_list = [{\"model\": \"gpt-4o-mini\",\"api_key\": OPENAI_API_KEY}]\n",
    "llm_config = {\"config_list\": config_list}"
   ]
  },
  {
   "cell_type": "code",
   "execution_count": 7,
   "metadata": {},
   "outputs": [],
   "source": [
    "user_proxy = autogen.UserProxyAgent(\n",
    "    name=\"User_proxy\",\n",
    "    system_message=\"A human admin\",\n",
    "    code_execution_config={\n",
    "        \"executor\": LocalCommandLineCodeExecutor(work_dir=\"group_chat\")\n",
    "    },\n",
    "    human_input_mode=\"NEVER\"\n",
    ")\n",
    "\n",
    "coder = autogen.AssistantAgent(\n",
    "    name=\"Coder\",\n",
    "    llm_config=llm_config\n",
    ")\n",
    "critic = autogen.AssistantAgent(\n",
    "    name=\"Critic\",\n",
    "    system_message=\"\"\"비평가.\n",
    "    명확한 근거를 제시하면서 1(나쁨) ~ 10(좋음) 의 점수를 제공하여 주어진 시각화 코드의 품질을 평가하는 데 고도로 숙련된 조력자입니다.\n",
    "    각 평가에 대해 시각화 모범 사례를 고려해야 합니다. 구체적으로 다음 차원에서 코드를 신중하게 평가할 수 있습니다.\n",
    "    - 버그(버그): 버그, 구문 오류 또는 오타가 있나요? 코드가 컴파일되지 않는 이유는 무엇인가요? 어떻게 수정해야 하나요?\n",
    "    - 데이터 변환:(변환): 데이터가 시각화 유형에 맞게 적절하게 변환되었나요?\n",
    "    예를 들어, 필요한 경우 데이터 집합이 적절하게 필터링, 집계 또는 그룹화가 되었나요? 날짜 필드를 사용하는 경우, 날짜 필드가 먼저 날짜 개체 등으로 변환되었나요?\n",
    "    - 목표 준수(규정 준수): 코드가 지정된 비주얼리제이션 목표를 얼마나 잘 충족하나요?\n",
    "    - 시각화 유형(유형): 모범 사례를 고려할 때 시각화 유형이 데이터 및 의도에 적합한가요?\n",
    "    인사이트를 전달하는 데 더 효과적인 시각화 유형이 있나요? 다른 시각화 유형이 더 적절하다면 점수는 반드시 5점 미만이여야 합니다.\n",
    "    - 데이터 인코딩(인코딩): 데이터가 시각화 유형에 맞게 적절하게 인코딩되어 있나요?\n",
    "    - 미학(심미성): 시각화의 미학이 시각화 유형 및 데이터에 적합한가요?\n",
    "    \n",
    "    위의 각 차원에 대해 점수를 제공해야 합니다.\n",
    "    {버그: 0, 변환: 0, 규정 준수: 0, 유형: 0. 인코딩: 0, 심미성: 0}\n",
    "    코드를 제안하지 마세요.\n",
    "    마지막으로, 위의 비평을 바탕으로 코더가 코드를 개선하기 위해 취해야 할 구체적인 조치 목록을 제안하세요\"\"\",\n",
    "    llm_config=llm_config\n",
    ")\n",
    "\n",
    "groupchat = autogen.GroupChat(agents=[user_proxy, coder, critic], messages=[], max_round=20)\n",
    "manager=autogen.GroupChatManager(groupchat=groupchat, llm_config=llm_config)"
   ]
  },
  {
   "cell_type": "code",
   "execution_count": null,
   "metadata": {},
   "outputs": [],
   "source": [
    "user_proxy.initiate_chat(\n",
    "    manager,\n",
    "    message=\"\"\"다음 URL(https://github.com/mwaskom/seaborn-data/blob/master/titanic.csv)에서 데이터를 다운로드하고,\n",
    "    age와 pclass 변수 간의 관계를 차트로 생성해 주세요. 차트는 파일로 저장해 주세요.\n",
    "    차트를 생성하기 이전에 확인을 위해 데이터셋의 열을 출력하세요\"\"\"\n",
    ")"
   ]
  },
  {
   "cell_type": "code",
   "execution_count": null,
   "metadata": {},
   "outputs": [],
   "source": [
    "Image(filename=\"group_chat/refined_age_pclass_relationship.png\")"
   ]
  }
 ],
 "metadata": {
  "kernelspec": {
   "display_name": "crewai",
   "language": "python",
   "name": "python3"
  },
  "language_info": {
   "codemirror_mode": {
    "name": "ipython",
    "version": 3
   },
   "file_extension": ".py",
   "mimetype": "text/x-python",
   "name": "python",
   "nbconvert_exporter": "python",
   "pygments_lexer": "ipython3",
   "version": "3.11.11"
  }
 },
 "nbformat": 4,
 "nbformat_minor": 2
}
