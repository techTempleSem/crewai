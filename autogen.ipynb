{
 "cells": [
  {
   "cell_type": "code",
   "execution_count": null,
   "metadata": {},
   "outputs": [],
   "source": [
    "import os\n",
    "from dotenv import load_dotenv\n",
    "load_dotenv()\n",
    "OPENAI_API_KEY = os.getenv(\"OPENAI_API_KEY\")\n",
    "\n",
    "from autogen import ConversableAgent\n",
    "\n",
    "coder_agent = ConversableAgent(\n",
    "    name=\"Junior_Coder_Agent\",\n",
    "    system_message=\"\"\"당신은 3년차 파이썬 코드 전문 소프트웨어 엔지니어입니다.\n",
    "    이해가 되지 않는 부분은 Senior Coder Agent 에게 질문하세요\"\"\",\n",
    "    llm_config={\"config_list\":[{\"model\": \"gpt-4o-mini\", \"api_key\": OPENAI_API_KEY}]}\n",
    ")\n",
    "\n",
    "manager_agent = ConversableAgent(\n",
    "    name=\"Senior_Coder_Agent\",\n",
    "    system_message=\"\"\"당신은 20년차 파이썬 코드 전문 소프트웨어 엔지니어입니다.\n",
    "    질문이 주어지면, 해당 질문에 전문성을 가지고 대답해 주세요.\n",
    "    만약 코드가 주어지면 주어진 코드를 검토하고 효율성을 높일 방안을 탐구하세요.\"\"\",\n",
    "    llm_config={\"config_list\":[{\"model\": \"gpt-4o-mini\", \"api_key\": OPENAI_API_KEY}]}\n",
    ")\n",
    "\n",
    "chat_result = coder_agent.initiate_chat(\n",
    "    manager_agent,\n",
    "    message=\"피보나치 수열 코드에 대해서 설명해주세요\",\n",
    "    summary_method=\"reflection_with_llm\",\n",
    "    max_turns=2\n",
    ")"
   ]
  },
  {
   "cell_type": "code",
   "execution_count": null,
   "metadata": {},
   "outputs": [],
   "source": [
    "print(chat_result.summary)"
   ]
  },
  {
   "cell_type": "code",
   "execution_count": null,
   "metadata": {},
   "outputs": [],
   "source": [
    "print(ConversableAgent.DEFAULT_SUMMARY_PROMPT)"
   ]
  },
  {
   "cell_type": "code",
   "execution_count": 5,
   "metadata": {},
   "outputs": [],
   "source": [
    "topic_agent = ConversableAgent(\n",
    "    name=\"topic_agent\",\n",
    "    system_message=\"당신은 토론할 주제를 제시하는 역할입니다. 현재 사회학적으로 중요한 주제를 하나 선정하여 제시해주세요. 오늘은 2024년 12월 30일입니다.\",\n",
    "    llm_config={\n",
    "        \"config_list\":[{\n",
    "            \"model\": \"gpt-4o-mini\",\n",
    "            \"api_key\": OPENAI_API_KEY\n",
    "        }]\n",
    "    },\n",
    "    human_input_mode=\"NEVER\"\n",
    ")\n",
    "\n",
    "economic_agent = ConversableAgent(\n",
    "    name=\"economic_agent\",\n",
    "    system_message=\"당신은 경제학자입니다. 주어진 주제에 대해 경제적 관점에서 의견을 제시해 주세요. 오늘은 2024년 12월 30일입니다.\",\n",
    "    llm_config={\n",
    "        \"config_list\":[{\n",
    "            \"model\": \"gpt-4o-mini\",\n",
    "            \"api_key\": OPENAI_API_KEY\n",
    "        }]\n",
    "    },\n",
    "    human_input_mode=\"NEVER\"\n",
    ")\n",
    "\n",
    "social_agent = ConversableAgent(\n",
    "    name=\"social_agent\",\n",
    "    system_message=\"당신은 사회학자입니다. 주어진 주제와 이전 의견들을 고려하여 사회적 관점에서 의견을 제시해 주세요. 오늘은 2024년 12월 30일입니다.\",\n",
    "    llm_config={\n",
    "        \"config_list\":[{\n",
    "            \"model\": \"gpt-4o-mini\",\n",
    "            \"api_key\": OPENAI_API_KEY\n",
    "        }]\n",
    "    },\n",
    "    human_input_mode=\"NEVER\"\n",
    ")\n",
    "\n",
    "environmental_agent = ConversableAgent(\n",
    "    name=\"environmental_agent\",\n",
    "    system_message=\"당신은 환경 전문가입니다. 주어진 주제와 이전 의견들을 고려하여 환경적 관점에서 의견을 제시해 주세요. 오늘은 2024년 12월 30일입니다.\",\n",
    "    llm_config={\n",
    "        \"config_list\":[{\n",
    "            \"model\": \"gpt-4o-mini\",\n",
    "            \"api_key\": OPENAI_API_KEY\n",
    "        }]\n",
    "    },\n",
    "    human_input_mode=\"NEVER\"\n",
    ")\n",
    "\n",
    "ethical_agent = ConversableAgent(\n",
    "    name=\"ethical_agent\",\n",
    "    system_message=\"당신은 윤리학자입니다. 주어진 주제와 이전 의견들을 고려하여 윤리적 관점에서 의견을 제시해 주세요. 오늘은 2024년 12월 30일입니다.\",\n",
    "    llm_config={\n",
    "        \"config_list\":[{\n",
    "            \"model\": \"gpt-4o-mini\",\n",
    "            \"api_key\": OPENAI_API_KEY\n",
    "        }]\n",
    "    },\n",
    "    human_input_mode=\"NEVER\"\n",
    ")"
   ]
  },
  {
   "cell_type": "code",
   "execution_count": null,
   "metadata": {},
   "outputs": [],
   "source": [
    "topic=\"AI 윤리\"\n",
    "chat_results = topic_agent.initiate_chats(\n",
    "    [\n",
    "        {\n",
    "            \"recipient\": economic_agent,\n",
    "            \"message\": f\"다음 주제에 대해 경제적 관점에서 의견을 제시해 주세요: {topic}\",\n",
    "            \"max_turns\": 2,\n",
    "            \"summary_method\": \"last_msg\"\n",
    "        },\n",
    "        {\n",
    "            \"recipient\": social_agent,\n",
    "            \"message\": f\"다음 주제에 대해 사회적 관점에서 의견을 제시해 주세요: {topic}\",\n",
    "            \"max_turns\": 2,\n",
    "            \"summary_method\": \"last_msg\"\n",
    "        },\n",
    "        {\n",
    "            \"recipient\": environmental_agent,\n",
    "            \"message\": f\"다음 주제에 대해 환경적 관점에서 의견을 제시해 주세요: {topic}\",\n",
    "            \"max_turns\": 2,\n",
    "            \"summary_method\": \"last_msg\"\n",
    "        },\n",
    "        {\n",
    "            \"recipient\": ethical_agent,\n",
    "            \"message\": f\"다음 주제에 대해 윤리적 관점에서 의견을 제시해 주세요: {topic}\",\n",
    "            \"max_turns\": 2,\n",
    "            \"summary_method\": \"last_msg\"\n",
    "        },\n",
    "    ]\n",
    ")"
   ]
  },
  {
   "cell_type": "code",
   "execution_count": null,
   "metadata": {},
   "outputs": [],
   "source": [
    "print(chat_results[3].summary)"
   ]
  },
  {
   "cell_type": "code",
   "execution_count": 8,
   "metadata": {},
   "outputs": [],
   "source": [
    "from autogen import GroupChat\n",
    "\n",
    "group_chat = GroupChat(\n",
    "    agents=[topic_agent, economic_agent, social_agent, environmental_agent, ethical_agent],\n",
    "    messages=[],\n",
    "    max_round=6\n",
    ")\n",
    "\n",
    "from autogen import GroupChatManager\n",
    "\n",
    "group_chat_manager=GroupChatManager(\n",
    "    groupchat=group_chat,\n",
    "    llm_config={\n",
    "        \"config_list\":[{\n",
    "            \"model\": \"gpt-4o-mini\",\n",
    "            \"api_key\": OPENAI_API_KEY\n",
    "        }]\n",
    "    },\n",
    ")"
   ]
  },
  {
   "cell_type": "code",
   "execution_count": null,
   "metadata": {},
   "outputs": [],
   "source": [
    "chat_result = topic_agent.initiate_chat(\n",
    "    group_chat_manager,\n",
    "    message=\"AI 윤리에 대해 대화를 나눠주세요\",\n",
    "    summary_method=\"reflection_with_llm\"\n",
    ")"
   ]
  },
  {
   "cell_type": "code",
   "execution_count": null,
   "metadata": {},
   "outputs": [],
   "source": [
    "print(chat_result.summary)"
   ]
  }
 ],
 "metadata": {
  "kernelspec": {
   "display_name": "crewai",
   "language": "python",
   "name": "python3"
  },
  "language_info": {
   "codemirror_mode": {
    "name": "ipython",
    "version": 3
   },
   "file_extension": ".py",
   "mimetype": "text/x-python",
   "name": "python",
   "nbconvert_exporter": "python",
   "pygments_lexer": "ipython3",
   "version": "3.11.11"
  }
 },
 "nbformat": 4,
 "nbformat_minor": 2
}
