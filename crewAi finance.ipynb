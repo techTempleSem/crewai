{
 "cells": [
  {
   "cell_type": "code",
   "execution_count": 2,
   "metadata": {},
   "outputs": [],
   "source": [
    "import warnings\n",
    "warnings.filterwarnings('ignore')"
   ]
  },
  {
   "cell_type": "code",
   "execution_count": 3,
   "metadata": {},
   "outputs": [],
   "source": [
    "from crewai_tools import tool\n",
    "import yfinance as yf\n",
    "\n",
    "from datetime import datetime, timedelta\n",
    "import pandas as pd"
   ]
  },
  {
   "cell_type": "code",
   "execution_count": 4,
   "metadata": {},
   "outputs": [],
   "source": [
    "ticker = yf.Ticker(\"META\")"
   ]
  },
  {
   "cell_type": "code",
   "execution_count": null,
   "metadata": {},
   "outputs": [],
   "source": [
    "help(ticker)"
   ]
  },
  {
   "cell_type": "code",
   "execution_count": null,
   "metadata": {},
   "outputs": [],
   "source": [
    "ticker.history(period='5d', interval='1d')"
   ]
  },
  {
   "cell_type": "code",
   "execution_count": null,
   "metadata": {},
   "outputs": [],
   "source": [
    "annual_financials = ticker.get_financials()\n",
    "annual_financials"
   ]
  },
  {
   "cell_type": "code",
   "execution_count": 8,
   "metadata": {},
   "outputs": [],
   "source": [
    "@tool\n",
    "def latest_stock_price(ticker):\n",
    "    \"\"\"\n",
    "    주어진 주식 티커에 대한 최근 종가를 가져옴\n",
    "    \"\"\"\n",
    "    ticker = yf.Ticker(ticker)\n",
    "    historical_prices = ticker.history(period='5d',interval='1d')\n",
    "    latest_price = historical_prices['Close']\n",
    "    return latest_price"
   ]
  },
  {
   "cell_type": "code",
   "execution_count": null,
   "metadata": {},
   "outputs": [],
   "source": [
    "latest_stock_price.run(\"AAPL\")"
   ]
  },
  {
   "cell_type": "code",
   "execution_count": 10,
   "metadata": {},
   "outputs": [],
   "source": [
    "@tool\n",
    "def financial_analysis(ticker):\n",
    "    \"\"\"\n",
    "    연간 재무제표의 주요 정보를 가져오는 툴\n",
    "    \"\"\"\n",
    "    ticker=yf.Ticker(ticker)\n",
    "    annual_financials = ticker.get_financials()\n",
    "    summary = {}\n",
    "    for date, data in annual_financials.items():\n",
    "        date_str = date.strftime('%Y-%m-%d')\n",
    "        summary[date_str] = {\n",
    "            \"총수익\": data.get('TotalRevenue'),\n",
    "            \"영업이익\": data.get('OperatingIncome'),\n",
    "            \"순이익\": data.get('NetIncome'),\n",
    "            \"EBITDA\": data.get('EBITDA'),\n",
    "            \"EPS(희석)\": f\"{data.get('DilutedEPS'):.2f}\" if pd.notna(data.get('DilutedEPS')) else \"N/A\"\n",
    "        }\n",
    "    \n",
    "    return summary"
   ]
  },
  {
   "cell_type": "code",
   "execution_count": null,
   "metadata": {},
   "outputs": [],
   "source": [
    "financial_analysis.run(\"AAPL\")"
   ]
  },
  {
   "cell_type": "code",
   "execution_count": 18,
   "metadata": {},
   "outputs": [],
   "source": [
    "@tool(\"Updated Comprehensive Stock Analysis\")\n",
    "def comprehensice_stock_analysis(ticker: str) -> str:\n",
    "    \"\"\"\n",
    "    주어진 주식 티커에 대한 업데이트된 종합적인 재무 분석을 수행합니다.\n",
    "    최신 주가 정보, 재무 지표, 성장률, 벨류에이션 및 주요 비율을 제공합니다.\n",
    "    가장 최근 영업일 기준의 데이터를 사용합니다.\n",
    "\n",
    "    :param ticker: 분석할 주식의 티커 심볼\n",
    "    :return: 재무 분석 결과를 포함한 문자열\n",
    "    \"\"\"\n",
    "    def format_number(number):\n",
    "        if number is None or pd.isna(number):\n",
    "            return \"N/A\"\n",
    "        return f\"{number:,.0f}\"\n",
    "    \n",
    "    def calculate_growth_rate(current, previous):\n",
    "        if previous and current and previous != 0:\n",
    "            return (current - previous) / abs(previous) * 100\n",
    "        return None\n",
    "    \n",
    "    def format_financial_suimmary(financials):\n",
    "        summary={}\n",
    "        for date, data in financials.items():\n",
    "            date_str = date.strftime('%Y-%m-%d')\n",
    "            summary[date_str] = {\n",
    "                \"총수익\": format_number(data.get('TotalRevenue')),\n",
    "                \"영업이익\": format_number(data.get('OperatingIncome')),\n",
    "                \"순이익\": format_number(data.get('NetIncome')),\n",
    "                \"EBITDA\": format_number(data.get('EBITDA')),\n",
    "                \"EPS(희석)\": f\"{data.get('DilutedEPS'):.2f}\" if pd.notna(data.get('DilutedEPS')) else \"N/A\"\n",
    "            }\n",
    "        return summary\n",
    "    \n",
    "    ticker = yf.Ticker(ticker)\n",
    "    historical_prices = ticker.history(period='1d',interval='1m')\n",
    "    latest_price = historical_prices['Close'].iloc[-1]\n",
    "    latest_time = historical_prices.index[-1].strftime('%Y-%m-%d %H:%M:%S')\n",
    "\n",
    "    # 연간 및 분기별 재무제표 데이터 가져오기\n",
    "    annual_financials = ticker.get_financials()\n",
    "    quarterly_financials = ticker.get_financials(freq=\"quarterly\")\n",
    "\n",
    "    # 주요 재무 지표(연간)\n",
    "    revenue=annual_financials.loc['TotalRevenue', annual_financials.columns[0]]\n",
    "    cost_of_revenue=annual_financials.loc['CostOfRevenue', annual_financials.columns[0]]\n",
    "    gross_profit=annual_financials.loc['GrossProfit', annual_financials.columns[0]]\n",
    "    operating_income=annual_financials.loc['OperatingIncome', annual_financials.columns[0]]\n",
    "    net_income=annual_financials.loc['NetIncome', annual_financials.columns[0]]\n",
    "    ebitda=annual_financials.loc['EBITDA', annual_financials.columns[0]]\n",
    "\n",
    "    # 주요 비율 계산\n",
    "    gross_margin = (gross_profit / revenue) * 100 if revenue != 0 else None\n",
    "    operating_margin = (operating_income / revenue) * 100 if revenue != 0 else None\n",
    "    net_margin = (net_income / revenue) * 100 if revenue != 0 else None\n",
    "\n",
    "    # 성장형 지표 계산\n",
    "    revenue_growth = calculate_growth_rate(revenue, annual_financials.loc['TotalRevenue', annual_financials.columns[1]])\n",
    "    net_income_growth = calculate_growth_rate(net_income, annual_financials.loc['NetIncome', annual_financials.columns[1]])\n",
    "\n",
    "    # 주당 지표\n",
    "    diluted_eps = annual_financials.loc['DilutedEPS', annual_financials.columns[0]]\n",
    "\n",
    "    # 분기별 데이터 분석\n",
    "    quarterly_revenue = quarterly_financials.loc['TotalRevenue', quarterly_financials.columns[0]]\n",
    "    quarterly_net_income = quarterly_financials.loc['NetIncome', quarterly_financials.columns[0]]\n",
    "\n",
    "    quarterly_revenue_growth = calculate_growth_rate(\n",
    "        quarterly_revenue,\n",
    "        quarterly_financials.loc['TotalRevenue', quarterly_financials.columns[1]]\n",
    "    )\n",
    "    quarterly_net_income_growth = calculate_growth_rate(\n",
    "        quarterly_net_income,\n",
    "        quarterly_financials.loc['NetIncome', quarterly_financials.columns[1]]\n",
    "    )\n",
    "\n",
    "    return {\n",
    "        \"현재 주가\":{\n",
    "            \"현재 주가\": latest_price,\n",
    "            \"기준 시간\": latest_time\n",
    "        },\n",
    "        \"연간 데이터\":{\n",
    "            \"매출\": format_number(revenue),\n",
    "            \"매출원가\": format_number(cost_of_revenue),\n",
    "            \"매출총이익\": format_number(gross_profit),\n",
    "            \"영업이익\": format_number(operating_income),\n",
    "            \"순이익\": format_number(net_income),\n",
    "            \"EBITDA\": format_number(ebitda),\n",
    "            \"매출총이익률\": f\"{gross_margin:.2f}%\" if gross_margin is not None else \"N/A\",\n",
    "            \"영업이익률\": f\"{operating_margin:.2f}%\" if operating_margin is not None else \"N/A\",\n",
    "            \"순이익률\": f\"{net_margin:.2f}%\" if net_margin is not None else \"N/A\",\n",
    "            \"매출 성장률\": f\"{revenue_growth:.2f}%\" if revenue_growth is not None else \"N/A\",\n",
    "            \"순이익 성장률\": f\"{net_income_growth:.2f}%\" if net_income_growth is not None else \"N/A\",\n",
    "            \"희석주당순이익(EPS)\": f\"{diluted_eps:.2f}%\" if diluted_eps is not None else \"N/A\",\n",
    "        },\n",
    "        \"분기 데이터\":{\n",
    "            \"매출\": format_number(quarterly_revenue),\n",
    "            \"순이익\": format_number(quarterly_net_income),\n",
    "            \"매출 성장률(QoQ)\": f\"{quarterly_revenue_growth:.2f}%\" if quarterly_revenue_growth is not None else \"N/A\",\n",
    "            \"순이익 성장률(QoQ)\": f\"{quarterly_net_income_growth:.2f}%\" if quarterly_net_income_growth is not None else \"N/A\",\n",
    "        },\n",
    "        \"연간 재무제표 요약\": format_financial_suimmary(annual_financials),\n",
    "        \"분기별 재무제표 요약\": format_financial_suimmary(quarterly_financials),\n",
    "    }"
   ]
  },
  {
   "cell_type": "code",
   "execution_count": null,
   "metadata": {},
   "outputs": [],
   "source": [
    "comprehensice_stock_analysis.run(\"AAPL\")"
   ]
  },
  {
   "cell_type": "code",
   "execution_count": null,
   "metadata": {},
   "outputs": [],
   "source": [
    "ticker = yf.Ticker(\"AAPL\")\n",
    "historical_prices = ticker.history(period='1d',interval='1m')\n",
    "latest_price = historical_prices['Close']\n",
    "latest_price"
   ]
  }
 ],
 "metadata": {
  "kernelspec": {
   "display_name": "crewai",
   "language": "python",
   "name": "python3"
  },
  "language_info": {
   "codemirror_mode": {
    "name": "ipython",
    "version": 3
   },
   "file_extension": ".py",
   "mimetype": "text/x-python",
   "name": "python",
   "nbconvert_exporter": "python",
   "pygments_lexer": "ipython3",
   "version": "3.11.11"
  }
 },
 "nbformat": 4,
 "nbformat_minor": 2
}
