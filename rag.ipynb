{
 "cells": [
  {
   "cell_type": "code",
   "execution_count": 1,
   "metadata": {},
   "outputs": [],
   "source": [
    "import os\n",
    "import warnings\n",
    "from dotenv import load_dotenv\n",
    "load_dotenv()\n",
    "OPENAI_API_KEY = os.getenv(\"OPENAI_API_KEY\")\n",
    "SERPER_API_KEY = os.getenv(\"SERPER_API_KEY\")\n",
    "warnings.filterwarnings('ignore')\n",
    "\n",
    "os.environ[\"SERPER_API_KEY\"]=SERPER_API_KEY\n",
    "os.environ['OPENAI_API_KEY']=OPENAI_API_KEY"
   ]
  },
  {
   "cell_type": "code",
   "execution_count": 2,
   "metadata": {},
   "outputs": [],
   "source": [
    "from langchain_community.document_loaders import PyPDFLoader\n",
    "\n",
    "loader = PyPDFLoader(r\"C:\\\\Users\\\\semte\\\\Desktop\\\\rag\\\\01-001.pdf\")\n",
    "\n",
    "pages = loader.load_and_split()"
   ]
  },
  {
   "cell_type": "code",
   "execution_count": 3,
   "metadata": {},
   "outputs": [
    {
     "data": {
      "text/plain": [
       "Document(metadata={'source': 'C:\\\\\\\\Users\\\\\\\\semte\\\\\\\\Desktop\\\\\\\\rag\\\\\\\\01-001.pdf', 'page': 0}, page_content='Re-Identification 문제에서의 향상된 표상을 얻기 위한 \\n연합학습 시스템1 \\n김성윤* 정우진* 윤세영 \\n한국과학기술원  \\n{curisam, gartland, yunseyoung}@kaist.ac.kr \\nFederated Learning Systems to Achieve Enhanced Feature \\nRepresentations in Re-Identification  \\nSeongyoon Kim*  Woojin Chung*  Seyoung Yun  \\nKAIST  \\n요   약 \\n 최근 빅 데이터 및 컴퓨팅 리소스의 발전으로 다양한 서비스에 인공지능(artificial intelligence, AI) \\n기술이 적용되고 있다. 일반적으로 클라우드로의 중앙 집중화를 통해 방대한 데이터를 수집하는데 \\n이러한 과정에서 사용자 개인(클라이언트) 데이터의 유출 위험 이슈가 대두되고 있다. 최근 이러한 \\n문제를 극복하기 위해 연합학습이 활발히 연구되고 있다. 연합학습은 각 클라이언트가 자신이 보유하고 \\n있는 개별 데이터들로 직접 학습한 모델을 중앙으로 보내고 중앙에서는 클라이언트들로부터 받은 \\n모델들을 취합하는 형식의 학습 방법이다. 본 논문에서는 이미지 분류(Image classification) 에만 적용될 \\n수 있는 연합학습보다 더 일반적인 Re-Identification(Re-ID)에 적용될 수 있는 연합학습 방법론 \\nFedDKD를 제안하였고 Person Re-ID 벤치마크에서 비교 알고리즘보다 향상된 성능이 나옴을 확인했다.   \\n1. 서  론 \\n \\n최근 클라우드 및 빅데이터 기술의 발전으로 다양한 \\n서비스에 인공 지능(artificial intelligence, AI) 기술이 \\n적용되고 있다. 이러한 인공 지능 모델을 잘 학습될 수 있던 \\n배경에는 방대한 양의 데이터 그리고 방대한 파라미터 수의 \\n모델에서의 연산을 수행할 수 있는 컴퓨터 리소스의 발전을 \\n이유로 들 수 있다. 일례로, 클라우드 컴퓨팅은 리소스의 중앙 \\n집중화를 기반으로 하기 때문에 모델 학습에 사용되는 모든 \\n데이터를 클라우드 메모리에 저장해야 하는 제약이 있다. \\n데이터 중앙 집중화는 효율성 극대화라는 관점에서 많은 \\n이점이 있으나, 사용자 개인(클라이언트) 데이터의 유출 \\n위험이 있으며 클라우드 스토리지에 대한 제약도 존재한다. \\n최근 이러한 문제를 극복하기 위해 연합학습이 활발히 \\n연구되고 있다. 연합학습은 클라우드 컴퓨팅과 같이 모든 \\n클라이언트의 데이터들을 중앙에 모은 뒤 중앙 모델을 \\n학습하는 것이 아닌, 각 클라이언트들이 클라이언트 모델 \\n그리고 자신의 수요에 따른 차별화된 데이터(heterogeneous \\ndata)를 보유하고 있는 상황이다. 연합학습은 다음의 3가지 \\n과정을 반복하여 모든 클라이언트들의 데이터들을 잘 예측할 \\n1 이 논문은 2022 년도 정부(과학기술정보통신부)의 재원으로 정보통신기획평가원의 지원을 받아 수행된 연구임 [No. 2021-0-00907, 능동적 즉시 \\n대응 및 빠른 학습이 가능한 적응형 경량 엣지 연동분석 기술개발, 90%] 및 [No. 2019-0-00075, 인공지능대학원지원(한국과학기술원), 10%]. \\n수 있는 중앙모델을 얻어낸다. 1) 중앙에서 중앙 모델을 \\n클라이언트들에게 전송. 2) 중앙 모델을 받은 각 클라이언트는 \\n중앙 모델을 시작점으로 보유한 데이터들에 기반하여 직접 학 \\n습한 클라이언트 모델을 생성한 뒤 중앙으로 전송. 3) \\n중앙에서는 학습된 클라이언트 모델들을 취합. 이러한 \\n연합학습은 클라이언트 개인의 데이터들을 중앙으로 수집하는 \\n것이 아니기에 사생활 침해 소지가 적다. 또한 데이터를 \\n직접적으로 공유하지는 않지만 각 클라이언트 개별 데이터로 \\n학습된 모델들을 취합하는 과정을 통해 간접적으로 데이터를 \\n공유하게 되어 더 나은 모델의 표상(feature)을 얻을 수 \\n있다고 알려져 왔다. \\n본 논문에서는 연합학습을 Re-Identification(Re-ID)에 \\n적용 가능한 FedDKD(Federated Lea rning via Decoupling \\nand Knowledge Distillation)을 제안한다. 일반적인 이미지 \\n분류(Image Classification) 를 위한 연합학습은 중앙에서 \\n학습된 각 클라이언트들의 모델결과를 단순 취합하는데, \\n이러한 과정에서 중앙 모델과 클라이언트의 모델들이 \\n동질적(Homogeneous)이어야 한다는 제약조건이 존재한다. \\n일반적인 AI 모델 θ는 [그림 1]과 같이 표상 추출기(feature \\nextractor) 𝜃𝑓  그리고 분류기(classifier) 𝜃𝑐  로 구성이 된다. \\n2022 한국소프트웨어종합학술대회 논문집\\n1')"
      ]
     },
     "execution_count": 3,
     "metadata": {},
     "output_type": "execute_result"
    }
   ],
   "source": [
    "pages[0]"
   ]
  },
  {
   "cell_type": "code",
   "execution_count": 4,
   "metadata": {},
   "outputs": [
    {
     "data": {
      "text/plain": [
       "[('Re-Identification 문제에서의 향상된 표상을 얻기 위한 \\n연합학습 시스템1 \\n김성윤* 정우진* 윤세영 \\n한국과학기술원  \\n{curisam, gartland, yunse',\n",
       "  {'source': 'C:\\\\\\\\Users\\\\\\\\semte\\\\\\\\Desktop\\\\\\\\rag\\\\\\\\01-001.pdf',\n",
       "   'page': 0}),\n",
       " ('Re-Identification 문제에서는 client가 주로 CCTV가 되는데, \\n각 CCTV가 보유하고 있는 객체(ID)의 개수(분류해야 하는 \\n라벨의 개수)는 일반적으로 다르',\n",
       "  {'source': 'C:\\\\\\\\Users\\\\\\\\semte\\\\\\\\Desktop\\\\\\\\rag\\\\\\\\01-001.pdf',\n",
       "   'page': 1}),\n",
       " ('있는 상황이다. 첫번째 과정으로, 중앙서버에서 전체 N 명의 \\n클라이언트들 중 r 번째 라운드의 연합학습에 참여할 K 명의 \\n클라이언트들의 인덱스들을 {1,∙∙∙, 𝑁}  집합으로',\n",
       "  {'source': 'C:\\\\\\\\Users\\\\\\\\semte\\\\\\\\Desktop\\\\\\\\rag\\\\\\\\01-001.pdf',\n",
       "   'page': 2})]"
      ]
     },
     "execution_count": 4,
     "metadata": {},
     "output_type": "execute_result"
    }
   ],
   "source": [
    "[(i.page_content[:100], i.metadata) for i in pages]"
   ]
  },
  {
   "cell_type": "code",
   "execution_count": 5,
   "metadata": {},
   "outputs": [
    {
     "name": "stderr",
     "output_type": "stream",
     "text": [
      "USER_AGENT environment variable not set, consider setting it to identify your requests.\n"
     ]
    },
    {
     "data": {
      "text/plain": [
       "[Document(metadata={'source': 'https://www.espn.com', 'title': 'ESPN - Serving Sports Fans. Anytime. Anywhere.', 'description': 'Visit ESPN for live scores, highlights and sports news. Stream exclusive games on ESPN+ and play fantasy sports.', 'language': 'en'}, page_content=\"\\n\\n\\n\\n\\n\\n\\n\\n\\nESPN - Serving Sports Fans. Anytime. Anywhere.\\n\\n\\n\\n\\n\\n\\n\\n\\n\\n\\n\\n\\n\\n\\n\\n\\n\\n\\n\\n\\n\\n\\n\\n\\n\\n\\n\\n\\n\\n\\n\\n\\n\\n\\n\\n\\n\\n\\n\\n\\n\\n\\n\\n\\n\\n\\n\\n\\n\\n\\n\\n\\n\\n\\n\\n\\n\\n\\n\\n\\n\\n\\n\\n\\n\\n\\n\\n\\n\\n\\n\\n\\n\\n\\n\\n\\n\\n\\n\\n\\n\\n\\n\\n\\n\\n\\n\\n\\n\\n\\n\\n\\n        Skip to main content\\n    \\n\\n        Skip to navigation\\n    \\n\\n\\n\\n\\n\\n\\n\\n\\n\\n\\n\\n\\n\\n\\n\\n\\n\\n\\n\\n\\n\\n\\n\\n\\n\\n\\n\\n\\n\\n\\n\\n\\n\\n<\\n\\n>\\n\\n\\n\\n\\n\\n\\n\\n\\n\\nMenuESPN\\n\\n\\n\\n\\n\\nscores\\n\\n\\n\\n\\nNEW! Find where to watch all of your favorite sports!\\n\\n\\n\\n\\n\\n\\n\\nNFLNBANCAAFNHLSoccerMLBMMAMore SportsBoxingCFLNCAACricketF1GolfHorseLLWSNASCARNLLNBA G LeagueNBA Summer LeagueNCAAMNCAAWNWSLOlympicsPLLProfessional WrestlingRacingRN BBRN FBRugbySports BettingTennisWNBAX GamesUFLEditionsFantasyWatchESPN BETESPN+\\n\\n\\n\\n\\n\\n\\n\\n\\n\\n\\n\\n\\n\\n\\n\\n  \\n\\nSubscribe Now\\n\\n\\n\\n\\n\\nNHL\\n\\n\\n\\n\\n\\n\\n\\nNCAA Men's Basketball\\n\\n\\n\\n\\n\\n\\n\\nNCAA Women's Basketball\\n\\n\\n\\n\\n\\n\\n\\nNFL PrimeTime\\n\\n\\nQuick Links\\n\\n\\n\\n\\nCFP Bracket\\n\\n\\n\\n\\n\\n\\n\\nCFB Bowl Games\\n\\n\\n\\n\\n\\n\\n\\nMLB Free Agency\\n\\n\\n\\n\\n\\n\\n\\nNFL Playoff Machine\\n\\n\\n\\n\\n\\n\\n\\n2024 NFL Schedule\\n\\n\\n\\n\\n\\n\\n\\nWhere To Watch\\n\\n\\n\\n\\n\\n\\n\\nToday's Top Odds\\n\\n\\n\\n\\n\\n\\n\\nESPN Radio: Listen Live\\n\\n\\n\\n\\n\\n\\nFavorites\\n\\n\\n\\n\\n\\n\\n      Manage Favorites\\n      \\n\\n\\n\\nCustomize ESPNCreate AccountLog InFantasy\\n\\n\\n\\n\\nFootball\\n\\n\\n\\n\\n\\n\\n\\nBaseball\\n\\n\\n\\n\\n\\n\\n\\nHockey\\n\\n\\n\\n\\n\\n\\n\\nMen's Basketball\\n\\n\\n\\n\\n\\n\\n\\nWomen's Basketball\\n\\n\\nESPN Sites\\n\\n\\n\\n\\nESPN Deportes\\n\\n\\n\\n\\n\\n\\n\\nAndscape\\n\\n\\n\\n\\n\\n\\n\\nespnW\\n\\n\\n\\n\\n\\n\\n\\nESPNFC\\n\\n\\n\\n\\n\\n\\n\\nX Games\\n\\n\\n\\n\\n\\n\\n\\nSEC Network\\n\\n\\nESPN Apps\\n\\n\\n\\n\\nESPN\\n\\n\\n\\n\\n\\n\\n\\nESPN Fantasy\\n\\n\\n\\n\\n\\n\\n\\nTournament Challenge\\n\\n\\nFollow ESPN\\n\\n\\n\\n\\nFacebook\\n\\n\\n\\n\\n\\n\\n\\nX/Twitter\\n\\n\\n\\n\\n\\n\\n\\nInstagram\\n\\n\\n\\n\\n\\n\\n\\nSnapchat\\n\\n\\n\\n\\n\\n\\n\\nTikTok\\n\\n\\n\\n\\n\\n\\n\\nYouTube\\n\\n\\nCollege Football Playoff Quarterfinal at the Vrbo Fiesta BowlNick Singleton ices Penn State's Fiesta Bowl win with 58-yard TD run9h0:59CFP quarterfinal takeaways: Penn State slowed Ashton Jeanty to get another winDespite previous magic in Glendale, Arizona, Boise State couldn't overcome a poor start.8hBill Connelly\\n\\n\\n\\nHow the Penn State defense shut down Jeanty8h1:22\\n\\n\\nBoise State misses second FG of the night9h0:33\\n\\n\\nMaddux Madsen picked off at critical juncture9h0:36\\n\\n\\nTyler Warren climbs the ladder for a Penn State TD10h0:45\\n\\n\\nMatt Lauter high-steps into the end zone for Boise State10h0:32\\n\\n\\nBoise State pushes its way to first TD of the game12h0:25\\n\\n\\nPenn State forces Ashton Jeanty to fumble on the sideline11h0:43\\n\\n\\n\\n🏆 CFP bracketTOP HEADLINESPSU D relishes thwarting Jeanty's record pursuitBoise St. coach's message to all: 'Watch our team'Sources: ASU's Dillingham lands lucrative new deal'Unguardable' SGA is MVP, Wolves' Edwards saysCowboys cut Zeke to give him chance at playoffsU.S. beats Canada, wins group at world juniorsSources: TCU to hire Army's Buddie as new ADSource: Rangers place goalie Shesterkin on IRScore picks for CFB postseason gamesBOWL PREVIEWS AND TAKEAWAYSMichigan seals bowl win over Alabama with big 4th-down stop17h0:23Michigan upsets Bama, Louisville wins wild Sun BowlOur college football experts preview each matchup and then offer a takeaway after each game.13hESPN'Ending 2024 on top': South Alabama takes jab at Alabama after bowl lossBiggest bowl game upsets, by point spreadTUESDAY'S TOP MOMENTSCOLLEGE FOOTBALLLouisville stops 2-point conversion to eke out win vs. Washington14h0:39Furious Shane Beamer held back from Bret Bielema after apparent taunting13h1:49COLLEGE FOOTBALL BOWL SCOREBOARDScore picks for every postseason CFB game📅 Full CFP and bowl scheduleNBA SCOREBOARD⬆⬇ StandingsCollege Football Playoff Quarterfinal at the Rose Bowl Presented by PrudentialThree teams, 153 touchdowns: Dillon Gabriel's long road toward another NCAA recordOn the cusp of another record, Dillon Gabriel and teammates from three schools talk about his chase for rings, dealing with the death of teammates and his DJ skills.2dMax OlsonIllustration by ESPNThamel: Coaches, scouts break down epic Oregon-Ohio State rematchThe teams are set to battle in the Rose Bowl after a classic earlier this year.2dPete ThamelOSU star Smith warns Ducks against playing manCOLLEGE FOOTBALL PLAYOFFWill we finally get an upset? How will UGA fare without Beck? Previewing the CFP quarterfinalsWinning paths for underdogs Boise State and Arizona State, and keys to Oregon-Ohio State and Georgia-Notre Dame.2dBill ConnellyTodd Kirkland/Getty Images📅 Full bowl and CFP schedule🏆 College Football Playoff bracket'THE ATMOSPHERE IS CRAZY'111 NFL players rank the toughest places to play (and leave out one division entirely)It shouldn't be a surprise which stadium was ranked as the toughest, but the voting did raise some eyebrows.2hBen BabyScott Winters/Icon Sportswire Top HeadlinesPSU D relishes thwarting Jeanty's record pursuitBoise St. coach's message to all: 'Watch our team'Sources: ASU's Dillingham lands lucrative new deal'Unguardable' SGA is MVP, Wolves' Edwards saysCowboys cut Zeke to give him chance at playoffsU.S. beats Canada, wins group at world juniorsSources: TCU to hire Army's Buddie as new ADSource: Rangers place goalie Shesterkin on IRScore picks for CFB postseason gamesFavorites FantasyManage FavoritesFantasy HomeCustomize ESPNCreate AccountLog InICYMI1:29Fight ensues, 6 ejected after Amen Thompson throws Tyler Herro to the floorAfter Amen Thompson and Tyler Herro get tangled up, Thompson throws Herro to the floor, resulting in both teams getting into an all-out fight. Best of ESPN+Getty ImagesCollege football transfer portal: Ranking best available QBsThe college football transfer portal is open, and several top quarterbacks are looking for new schools and some have already found theirs. Here are the best available.Jonathan Bachman/Getty ImagesNBA panic meter: Next for Kings, Suns, Pelicans and struggling contendersInjury-ravaged New Orleans may have created a new tier of panic, but they have plenty of company on our updated list -- including a West team that just fired its coach.(Photo by Alvaro Medranda/Quality Sport Images/Getty Images)Was anyone better in 2024 than Messi or Ronaldo were at the same age?Who, if anyone, has reached the sort of numbers in 2024 that Lionel Messi and Cristiano Ronaldo were posting when they were respectively the same age?AP Photo/Corey SipkinJudging biggest overreactions for NFL Week 17 gamesWill the Giants regret their Week 17 win? Should the Chiefs try to avoid the Bengals? And would the Ravens be better off in a wild-card matchup with the Texans? Trending NowSergio Estrada-USA TODAY Sports'Nobody wanted to fire Mike': What went so wrong so fast for the Sacramento KingsTwo years ago, Mike Brown led the upstart Kings to a shocking No. 3 seed in the West. Six months ago, he received a $26M extension. On Friday, he was fired.Kathryn Riley/Getty Images2025 NFL draft order projections: Patriots, Browns at topESPN's Football Power Index projects the 2025 NFL draft order for Round 1. Which teams have the best odds to pick early?Mike Stobe/NHLI via Getty ImagesSophomore setbacks: Should Chicago speed up its rebuild for Bedard?Chicago's struggles have only brought more attention to Connor Bedard's sophomore slump. It begs the question: How long will the rebuild will take? Are they doing a disservice to their superstar by not speeding it up?Stockton familySugar Bowl: What Georgia has in Gunner StocktonQuarterback Gunner Stockton might not have the flash of Carson Beck, but he has a Bulldogs pedigree. NFL Playoff MachineMark J. Rebilas/USA TODAY SportsSimulate playoff matchupsPredict playoff pairings by selecting the winners of the remaining regular-season games to generate potential scenarios. Sign up for FREE!Create A LeagueJoin a Public LeagueReactivate a LeaguePractice With a Mock DraftSign up for FREE!Create A LeagueJoin a Public LeagueReactivate a LeaguePractice with a Mock DraftESPN+ on Disney+Mike Windle/Getty Images for ESPNHow to watch ESPN+ on Disney+: Frequently asked questionsStarting Dec. 4, ESPN+ will be available on Disney+. Check out how to watch NHL, MLB, Pat McAfee, 30 for 30s and other exciting events now. Get a custom ESPN experienceEnjoy the benefits of a personalized accountSelect your favorite leagues, teams and players and get the latest scores, news and updates that matter most to you. \\n\\nESPN+\\n\\n\\n\\n\\nNHL\\n\\n\\n\\n\\n\\n\\n\\nNCAA Men's Basketball\\n\\n\\n\\n\\n\\n\\n\\nNCAA Women's Basketball\\n\\n\\n\\n\\n\\n\\n\\nNFL PrimeTime\\n\\n\\nQuick Links\\n\\n\\n\\n\\nCFP Bracket\\n\\n\\n\\n\\n\\n\\n\\nCFB Bowl Games\\n\\n\\n\\n\\n\\n\\n\\nMLB Free Agency\\n\\n\\n\\n\\n\\n\\n\\nNFL Playoff Machine\\n\\n\\n\\n\\n\\n\\n\\n2024 NFL Schedule\\n\\n\\n\\n\\n\\n\\n\\nWhere To Watch\\n\\n\\n\\n\\n\\n\\n\\nToday's Top Odds\\n\\n\\n\\n\\n\\n\\n\\nESPN Radio: Listen Live\\n\\n\\nFantasy\\n\\n\\n\\n\\nFootball\\n\\n\\n\\n\\n\\n\\n\\nBaseball\\n\\n\\n\\n\\n\\n\\n\\nHockey\\n\\n\\n\\n\\n\\n\\n\\nMen's Basketball\\n\\n\\n\\n\\n\\n\\n\\nWomen's Basketball\\n\\n\\nESPN Sites\\n\\n\\n\\n\\nESPN Deportes\\n\\n\\n\\n\\n\\n\\n\\nAndscape\\n\\n\\n\\n\\n\\n\\n\\nespnW\\n\\n\\n\\n\\n\\n\\n\\nESPNFC\\n\\n\\n\\n\\n\\n\\n\\nX Games\\n\\n\\n\\n\\n\\n\\n\\nSEC Network\\n\\n\\nESPN Apps\\n\\n\\n\\n\\nESPN\\n\\n\\n\\n\\n\\n\\n\\nESPN Fantasy\\n\\n\\n\\n\\n\\n\\n\\nTournament Challenge\\n\\n\\nFollow ESPN\\n\\n\\n\\n\\nFacebook\\n\\n\\n\\n\\n\\n\\n\\nX/Twitter\\n\\n\\n\\n\\n\\n\\n\\nInstagram\\n\\n\\n\\n\\n\\n\\n\\nSnapchat\\n\\n\\n\\n\\n\\n\\n\\nTikTok\\n\\n\\n\\n\\n\\n\\n\\nYouTube\\n\\n\\nTerms of UsePrivacy PolicyInterest-Based Ads© ESPN Enterprises, Inc. All rights reserved.\\n\\n\\n\\n\\n\\n\\n\\n\\n\\n\\n\\n\\n\\n\\n\\n\\n\\n\")]"
      ]
     },
     "execution_count": 5,
     "metadata": {},
     "output_type": "execute_result"
    }
   ],
   "source": [
    "from langchain_community.document_loaders import WebBaseLoader\n",
    "\n",
    "loader = WebBaseLoader(\"https://www.espn.com\")\n",
    "\n",
    "loader.requests_kwargs={'verify':False}\n",
    "data=loader.load()\n",
    "data"
   ]
  },
  {
   "cell_type": "code",
   "execution_count": 6,
   "metadata": {},
   "outputs": [
    {
     "data": {
      "text/plain": [
       "[Document(metadata={'source': 'https://www.espn.com'}, page_content=\"PSU D relishes thwarting Jeanty's record pursuitBoise St. coach's message to all: 'Watch our team'Sources: ASU's Dillingham lands lucrative new deal'Unguardable' SGA is MVP, Wolves' Edwards saysCowboys cut Zeke to give him chance at playoffsU.S. beats Canada, wins group at world juniorsSources: TCU to hire Army's Buddie as new ADSource: Rangers place goalie Shesterkin on IRScore picks for CFB postseason games Top HeadlinesPSU D relishes thwarting Jeanty's record pursuitBoise St. coach's message to all: 'Watch our team'Sources: ASU's Dillingham lands lucrative new deal'Unguardable' SGA is MVP, Wolves' Edwards saysCowboys cut Zeke to give him chance at playoffsU.S. beats Canada, wins group at world juniorsSources: TCU to hire Army's Buddie as new ADSource: Rangers place goalie Shesterkin on IRScore picks for CFB postseason games\")]"
      ]
     },
     "execution_count": 6,
     "metadata": {},
     "output_type": "execute_result"
    }
   ],
   "source": [
    "import bs4\n",
    "from langchain_community.document_loaders import WebBaseLoader\n",
    "\n",
    "loader=WebBaseLoader(\"https://www.espn.com\",\n",
    "                     bs_kwargs=dict(\n",
    "                         parse_only=bs4.SoupStrainer(\n",
    "                             class_=(\"headlineStack top-headlines\")\n",
    "                         )\n",
    "                     ))\n",
    "\n",
    "loader.requests_kwargs={\"verify\":False}\n",
    "data=loader.load()\n",
    "data"
   ]
  },
  {
   "cell_type": "code",
   "execution_count": 11,
   "metadata": {},
   "outputs": [
    {
     "name": "stdout",
     "output_type": "stream",
     "text": [
      "page_content='Re-Identification 문제에서의 향상된 표상을 얻기 위한 \n",
      "연합학습 시스템1 \n",
      "김성윤* 정우진* 윤세영 \n",
      "한국과학기술원  \n",
      "{curisam, gartland, yunseyoung}@kaist.ac.kr \n",
      "Federated Learning Systems to Achieve Enhanced Feature \n",
      "Representations in Re-Identification  \n",
      "Seongyoon Kim*  Woojin Chung*  Seyoung Yun  \n",
      "KAIST  \n",
      "요   약 \n",
      " 최근 빅 데이터 및 컴퓨팅 리소스의 발전으로 다양한 서비스에 인공지능(artificial intelligence, AI) \n",
      "기술이 적용되고 있다. 일반적으로 클라우드로의 중앙 집중화를 통해 방대한 데이터를 수집하는데 \n",
      "이러한 과정에서 사용자 개인(클라이언트) 데이터의 유출 위험 이슈가 대두되고 있다. 최근 이러한' metadata={'source': 'C:\\\\\\\\Users\\\\\\\\semte\\\\\\\\Desktop\\\\\\\\rag\\\\\\\\01-001.pdf', 'page': 0}\n"
     ]
    }
   ],
   "source": [
    "from langchain_community.document_loaders import PyPDFLoader\n",
    "loader=PyPDFLoader(r\"C:\\\\Users\\\\semte\\\\Desktop\\\\rag\\\\01-001.pdf\")\n",
    "pages=loader.load()\n",
    "\n",
    "from langchain_text_splitters import CharacterTextSplitter\n",
    "\n",
    "text_splitter = CharacterTextSplitter(\n",
    "    separator='\\n',\n",
    "    chunk_size=500,\n",
    "    chunk_overlap=100,\n",
    "    length_function=len\n",
    ")\n",
    "\n",
    "texts = text_splitter.split_documents(pages)\n",
    "print(texts[0])"
   ]
  },
  {
   "cell_type": "code",
   "execution_count": 12,
   "metadata": {},
   "outputs": [
    {
     "name": "stdout",
     "output_type": "stream",
     "text": [
      "[451, 478, 465, 482, 488, 299, 489, 480, 471, 493, 478, 197, 488, 497, 499, 493, 491, 499, 479, 496]\n"
     ]
    }
   ],
   "source": [
    "print([len(i.page_content) for i in texts])"
   ]
  },
  {
   "cell_type": "code",
   "execution_count": 13,
   "metadata": {},
   "outputs": [
    {
     "name": "stdout",
     "output_type": "stream",
     "text": [
      "page_content='Re-Identification 문제에서의 향상된 표상을 얻기 위한 \n",
      "연합학습 시스템1 \n",
      "김성윤* 정우진* 윤세영 \n",
      "한국과학기술원  \n",
      "{curisam, gartland, yunseyoung}@kaist.ac.kr \n",
      "Federated Learning Systems to Achieve Enhanced Feature \n",
      "Representations in Re-Identification  \n",
      "Seongyoon Kim*  Woojin Chung*  Seyoung Yun  \n",
      "KAIST  \n",
      "요   약 \n",
      " 최근 빅 데이터 및 컴퓨팅 리소스의 발전으로 다양한 서비스에 인공지능(artificial intelligence, AI) \n",
      "기술이 적용되고 있다. 일반적으로 클라우드로의 중앙 집중화를 통해 방대한 데이터를 수집하는데 \n",
      "이러한 과정에서 사용자 개인(클라이언트) 데이터의 유출 위험 이슈가 대두되고 있다. 최근 이러한' metadata={'source': 'C:\\\\\\\\Users\\\\\\\\semte\\\\\\\\Desktop\\\\\\\\rag\\\\\\\\01-001.pdf', 'page': 0}\n"
     ]
    }
   ],
   "source": [
    "from langchain_community.document_loaders import PyPDFLoader\n",
    "loader=PyPDFLoader(r\"C:\\\\Users\\\\semte\\\\Desktop\\\\rag\\\\01-001.pdf\")\n",
    "pages=loader.load()\n",
    "\n",
    "from langchain_text_splitters import RecursiveCharacterTextSplitter\n",
    "\n",
    "text_splitter = RecursiveCharacterTextSplitter(\n",
    "    chunk_size=500,\n",
    "    chunk_overlap=100,\n",
    "    length_function=len,\n",
    "    is_separator_regex=False\n",
    ")\n",
    "\n",
    "texts = text_splitter.split_documents(pages)\n",
    "print(texts[0])"
   ]
  },
  {
   "cell_type": "code",
   "execution_count": 14,
   "metadata": {},
   "outputs": [
    {
     "name": "stdout",
     "output_type": "stream",
     "text": [
      "[451, 478, 465, 482, 488, 299, 489, 480, 471, 493, 478, 197, 488, 497, 494, 493, 491, 473, 485, 457, 188]\n"
     ]
    }
   ],
   "source": [
    "print([len(i.page_content) for i in texts])"
   ]
  },
  {
   "cell_type": "code",
   "execution_count": 16,
   "metadata": {},
   "outputs": [
    {
     "data": {
      "text/plain": [
       "(5, 1536)"
      ]
     },
     "execution_count": 16,
     "metadata": {},
     "output_type": "execute_result"
    }
   ],
   "source": [
    "import os\n",
    "from langchain_openai import OpenAIEmbeddings\n",
    "embeddings_model = OpenAIEmbeddings(model='text-embedding-3-small')\n",
    "embeddings=embeddings_model.embed_documents(\n",
    "    [\n",
    "        \"Hi there!\",\n",
    "        \"Oh, hello!\",\n",
    "        \"What's your name?\",\n",
    "        \"my friends call me World\",\n",
    "        \"Hello World\"\n",
    "    ]\n",
    ")\n",
    "len(embeddings), len(embeddings[0])"
   ]
  },
  {
   "cell_type": "code",
   "execution_count": 17,
   "metadata": {},
   "outputs": [
    {
     "name": "stdout",
     "output_type": "stream",
     "text": [
      "[-0.019187437370419502, -0.03813096508383751, -0.031003428623080254, -0.004613928031176329, -0.03536667302250862, -0.004004158079624176, 0.012920353561639786, 0.05103099346160889, -0.005826693493872881, -0.03720953315496445]\n"
     ]
    }
   ],
   "source": [
    "print(embeddings[0][:10])"
   ]
  },
  {
   "cell_type": "code",
   "execution_count": 18,
   "metadata": {},
   "outputs": [
    {
     "data": {
      "text/plain": [
       "(21, 1536)"
      ]
     },
     "execution_count": 18,
     "metadata": {},
     "output_type": "execute_result"
    }
   ],
   "source": [
    "loader = PyPDFLoader(r\"C:\\\\Users\\\\semte\\\\Desktop\\\\rag\\\\01-001.pdf\")\n",
    "pages=loader.load()\n",
    "\n",
    "text_splitter=RecursiveCharacterTextSplitter(\n",
    "    chunk_size=500,\n",
    "    chunk_overlap=100\n",
    ")\n",
    "\n",
    "texts = text_splitter.split_documents(pages)\n",
    "embeddings=embeddings_model.embed_documents([i.page_content for i in texts])\n",
    "len(embeddings), len(embeddings[0])"
   ]
  },
  {
   "cell_type": "code",
   "execution_count": 22,
   "metadata": {},
   "outputs": [],
   "source": [
    "from langchain.vectorstores import FAISS\n",
    "\n",
    "db = FAISS.from_documents(texts, embeddings_model)\n"
   ]
  },
  {
   "cell_type": "code",
   "execution_count": 23,
   "metadata": {},
   "outputs": [
    {
     "data": {
      "text/plain": [
       "[Document(id='b2d05069-cf6a-49dd-b31b-06de7b8b62bd', metadata={'source': 'C:\\\\\\\\Users\\\\\\\\semte\\\\\\\\Desktop\\\\\\\\rag\\\\\\\\01-001.pdf', 'page': 2}, page_content='그리고 Cross-Device 세팅 모두에서 FedDKD-NTD \\n방법론이 대체적으로 우세한 것을 [표 1]에서 확인할 수 있다. \\n \\n5. 결론 및 향후 연구 \\n \\n본 논문에서는 Re-ID에도 적용될 수 있는 더 일반적인 \\n연합학습 방법론을 제안하였고 Person Re -ID 벤치마크에서 \\n비교 알고리즘에 비해 성능이 향상됨을 확인했다. 허나 \\n연합학습 관련 Re-ID 벤치마크가 Person만 존재하는 이유로 \\nVehicle Re -ID에서는 실험을 진행하지 못했다. Vehicle Re -\\nID에도 해당연구가 진행된다면 스마트 교차로 서비스 등에도 \\n이용할 수 있을 것이다. 또한, 본 연구는 클라이언트들이 \\n분류기의 사이즈를 이질적으로 가질 수 있음을 허용하지만  \\n추출기 부분은 클라이언트들이 동일한 사이즈를 가져야 \\n한다는 제약이 있다. 추출기 부분에 대한 가정도 완화할 수 \\n있는 연구가 진행된다면 자연어처리 분야와 같은 분야에서도'),\n",
       " Document(id='866f4a03-e0a2-479e-b5f1-7236bebf6ada', metadata={'source': 'C:\\\\\\\\Users\\\\\\\\semte\\\\\\\\Desktop\\\\\\\\rag\\\\\\\\01-001.pdf', 'page': 1}, page_content='데이터의 라벨수가 다른 것을 고려해 각 CCTV의 \\n분류기의 모델 사이즈가 다를 수 있음을 허용한다.   또한 \\n분류기와 추출기를 분리(decoupling)하여 추출기 부분만을 \\nFedAVG [2]를 적용해 연합학습을 적용한 연구이다. \\n3. 제안 방법론 \\n \\n본 논문에서는 Re-ID 문제에서 연합학습을 적용할 수 있는 \\nFedDKD[알고리즘 1]을 제안한다. 알고리즘에 사용되는 \\n수식적 표기를 먼저 정의한 뒤 알고리즘을 구성하는 8가지 각 \\n과정을 설명하겠다.  \\n \\n \\n3.1 수식적 표기 정의 \\n알고리즘 설명 이전에 수식적 표기를 먼저 설명하겠다. \\n먼저 N, R, 그리고 K는 각각 전체 연합학습에 참여하는 전체 \\n클라이언트의 수, 연합학습동안 수행되는 전체 라운드 수, \\n그리고 매 라운드 마다 참여하는 클라이언트의 수이다. 𝐷𝑛 , \\n그리고 |𝐷𝑛| 은 각각 n 번째 클라이언트가 보유한 데이터 셋, \\n그리고 𝐷𝑛 내에 있는 데이터의 개수이다. 마지막으로 𝜃𝑓\\n0 와'),\n",
       " Document(id='6b7f6309-0708-4b0c-9821-e9a00353ca16', metadata={'source': 'C:\\\\\\\\Users\\\\\\\\semte\\\\\\\\Desktop\\\\\\\\rag\\\\\\\\01-001.pdf', 'page': 1}, page_content='알고리즘은 Person Re -ID 연합학습 벤치마크 세팅에서 \\n비교대상 알고리즘에 비해 모든 CCTV의 데이터 셋에서 \\n향상된 성능을 보여준다. \\n \\n \\n2. 관련 연구 \\n \\n2.1 지식 증류법(Knowledge Distillation ), 그리고 연합 \\n학습(Federated Learning) [1,2,3] \\n 지식 증류법[1]은 학습된 거대 모델(Teacher Model) 로부터 \\n얻어진 입력 데이터에 대한 예측 값을 활용하여 가벼운 \\n모델(Student Model)의 성능을 올리는 방법이다.  \\n연합 학습[2]은 각 클라이언트들의 데이터들이 서로 공유가 \\n되지 못하는 상황에서, 개별적으로 클라이언트들마다 학습된 \\n모델들을 중앙에서 취합하는 방식으로 모든 클라이언트들의 \\n수요를 만족시킬 수 있는 중앙 모델을 얻어내는 방법이다. \\n[3]은 연합학습에서 지식 증류법을 활용해 변형된 \\n손실함수(LSD, NTD) 를 줄이는 것으로 더 나은 중앙 서버'),\n",
       " Document(id='4c6aa654-7ee9-482c-a002-0cd6e13aa6e4', metadata={'source': 'C:\\\\\\\\Users\\\\\\\\semte\\\\\\\\Desktop\\\\\\\\rag\\\\\\\\01-001.pdf', 'page': 2}, page_content='추출기들을 각 클라이언트들이 보유한 데이터 수 |𝐷𝑘| 에 \\n비례하게 convex combination 을 취하여 추출기 𝜃𝑓\\n𝑟 를 \\n업데이트 한다.  \\n \\n4. 실험 및 실험 결과 \\n \\n본 알고리즘은 유일하게 존재하는 연합학습 Re-id 벤치마크 \\nFedPAV[4]의 모델: ResNet50, 그리고 하이퍼파라미터들을 \\n동일하게 적용했다. 해당 벤치마크는 Person Re -ID로 총 \\n9개의 CCTV들이 존재하며, 각 CCTV들은 순서대로 Market, \\nDukeMTMC-reID, cuhk03-np-detected, cuhk01, MSMT17, \\nviper, prid,, 3dpes, 그리고 ilids 데이터를 가진다. FedDTD는 \\nFedPAV에 비해 지식 증류법을 위한 하이퍼파라미터 (β, τ)가 \\n추가적으로 존재하는데 [3]과 동일하게 (1,3) 값을 적용했다. \\n \\nClient 𝐏𝐀𝐕 𝐃𝐊𝐃 \\nLSD \\n𝐃𝐊𝐃 \\nNTD \\n𝐏𝐀𝐕∗ \\n \\n𝐃𝐊𝐃∗ \\nLSD \\n𝐃𝐊𝐃∗')]"
      ]
     },
     "execution_count": 23,
     "metadata": {},
     "output_type": "execute_result"
    }
   ],
   "source": [
    "retriever = db.as_retriever()\n",
    "\n",
    "query = \"관련 연구가 무엇이 있어?\"\n",
    "retriever.invoke(query)"
   ]
  },
  {
   "cell_type": "code",
   "execution_count": 26,
   "metadata": {},
   "outputs": [
    {
     "data": {
      "text/plain": [
       "'이 논문의 목표는 Re-ID 문제에 연합학습을 적용할 수 있는 FedDKD 알고리즘을 제안하는 것이다. 이 연구는 각 CCTV의 분류기 모델 사이즈가 다를 수 있음을 허용하고, 추출기와 분류기를 분리하여 연합학습을 적용하였다. 또한, 실험 결과에서 제안된 방법론이 기존 알고리즘들보다 성능이 향상됨을 보였다.'"
      ]
     },
     "execution_count": 26,
     "metadata": {},
     "output_type": "execute_result"
    },
    {
     "ename": "",
     "evalue": "",
     "output_type": "error",
     "traceback": [
      "\u001b[1;31mThe Kernel crashed while executing code in the current cell or a previous cell. \n",
      "\u001b[1;31mPlease review the code in the cell(s) to identify a possible cause of the failure. \n",
      "\u001b[1;31mClick <a href='https://aka.ms/vscodeJupyterKernelCrash'>here</a> for more info. \n",
      "\u001b[1;31mView Jupyter <a href='command:jupyter.viewOutput'>log</a> for further details."
     ]
    }
   ],
   "source": [
    "from langchain_openai import ChatOpenAI\n",
    "from langchain import hub\n",
    "from langchain_core.output_parsers import StrOutputParser\n",
    "from langchain_core.runnables import RunnablePassthrough\n",
    "\n",
    "model = ChatOpenAI(model = \"gpt-4o-mini\")\n",
    "prompt = hub.pull(\"rlm/rag-prompt\")\n",
    "\n",
    "def format_docs(docs):\n",
    "    return \"\\n\\n\".join(doc.page_content for doc in docs)\n",
    "\n",
    "rag_chain = (\n",
    "    {\"context\": retriever|format_docs, \"question\": RunnablePassthrough()}\n",
    "    |prompt\n",
    "    |model\n",
    "    |StrOutputParser()\n",
    ")\n",
    "\n",
    "rag_chain.invoke(\"이 논문의 목표에 대해 설명해 줘.\")"
   ]
  }
 ],
 "metadata": {
  "kernelspec": {
   "display_name": "crewai",
   "language": "python",
   "name": "python3"
  },
  "language_info": {
   "codemirror_mode": {
    "name": "ipython",
    "version": 3
   },
   "file_extension": ".py",
   "mimetype": "text/x-python",
   "name": "python",
   "nbconvert_exporter": "python",
   "pygments_lexer": "ipython3",
   "version": "3.11.11"
  }
 },
 "nbformat": 4,
 "nbformat_minor": 2
}
