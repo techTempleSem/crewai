{
 "cells": [
  {
   "cell_type": "code",
   "execution_count": 1,
   "metadata": {},
   "outputs": [],
   "source": [
    "import os\n",
    "import warnings\n",
    "from dotenv import load_dotenv\n",
    "load_dotenv()\n",
    "OPENAI_API_KEY = os.getenv(\"OPENAI_API_KEY\")\n",
    "TAVILY_API_KEY = os.getenv(\"TAVILY_API_KEY\")\n",
    "warnings.filterwarnings('ignore')\n",
    "\n",
    "os.environ[\"TAVILY_API_KEY\"]=TAVILY_API_KEY\n",
    "os.environ['OPENAI_API_KEY']=OPENAI_API_KEY"
   ]
  },
  {
   "cell_type": "code",
   "execution_count": 2,
   "metadata": {},
   "outputs": [],
   "source": [
    "from typing import Annotated\n",
    "from typing_extensions import TypedDict\n",
    "from langgraph.graph.message import add_messages\n",
    "\n",
    "class State(TypedDict):\n",
    "    messages: Annotated[list, add_messages]"
   ]
  },
  {
   "cell_type": "code",
   "execution_count": 3,
   "metadata": {},
   "outputs": [],
   "source": [
    "from langchain_community.tools.tavily_search import TavilySearchResults\n",
    "from langgraph.prebuilt import ToolNode, tools_condition\n",
    "\n",
    "tool = TavilySearchResults(max_results=2)\n",
    "tools=[tool]\n",
    "tool_node = ToolNode(tools)"
   ]
  },
  {
   "cell_type": "code",
   "execution_count": 5,
   "metadata": {},
   "outputs": [],
   "source": [
    "import json\n",
    "from langchain_core.messages import ToolMessage\n",
    "class BasicToolNode:\n",
    "    \"\"\"A node that runs the tools requested in the last AIMessage\"\"\"\n",
    "    def __init__(self, tools:list) -> None:\n",
    "        self.tools_by_name={tool.name: tool for tool in tools}\n",
    "    \n",
    "    def __call__(self, inputs:dict):\n",
    "        if messages := inputs.get(\"messages\",[]):\n",
    "            message = messages[-1]\n",
    "        else:\n",
    "            raise ValueError(\"no message found in input\")\n",
    "        outputs=[]\n",
    "        for tool_call in message.tool_calls:\n",
    "            tool_result = self.tools_by_name[tool_call[\"name\"]].invoke(\n",
    "                tool_call[\"args\"]\n",
    "            )\n",
    "            outputs.append(\n",
    "                ToolMessage(\n",
    "                    content=json.dumps(tool_result),\n",
    "                    name=tool_call[\"name\"],\n",
    "                    tool_call_id=tool_call[\"id\"]\n",
    "                )\n",
    "            )\n",
    "        return {\"messages\": outputs}"
   ]
  },
  {
   "cell_type": "code",
   "execution_count": 4,
   "metadata": {},
   "outputs": [],
   "source": [
    "from langchain_openai import ChatOpenAI\n",
    "llm=ChatOpenAI(model=\"gpt-4o-mini\")\n",
    "llm_with_toold = llm.bind_tools(tools)\n",
    "\n",
    "def chatbot(state: State):\n",
    "    result=llm_with_toold.invoke(state[\"messages\"])\n",
    "    return {\"messages\": [result]}"
   ]
  },
  {
   "cell_type": "code",
   "execution_count": 5,
   "metadata": {},
   "outputs": [],
   "source": [
    "from langgraph.graph import StateGraph\n",
    "graph_builder=StateGraph(State)\n",
    "graph_builder.add_node(\"chatbot\", chatbot)\n",
    "graph_builder.add_node(\"tools\", tool_node)\n",
    "\n",
    "graph_builder.add_edge(\"tools\", \"chatbot\")\n",
    "graph_builder.add_conditional_edges(\"chatbot\", tools_condition)\n",
    "\n",
    "graph_builder.set_entry_point(\"chatbot\")\n",
    "graph=graph_builder.compile()"
   ]
  },
  {
   "cell_type": "code",
   "execution_count": 6,
   "metadata": {},
   "outputs": [
    {
     "data": {
      "text/plain": [
       "{'messages': [HumanMessage(content='지금 한국 대통령은 누구야?', additional_kwargs={}, response_metadata={}, id='104d25e1-0ef9-465f-8b2d-5b010f235f52'),\n",
       "  AIMessage(content='', additional_kwargs={'tool_calls': [{'id': 'call_nLqzRC4SHgcFLOYygzzfGOnF', 'function': {'arguments': '{\"query\":\"현재 한국 대통령\"}', 'name': 'tavily_search_results_json'}, 'type': 'function'}], 'refusal': None}, response_metadata={'token_usage': {'completion_tokens': 21, 'prompt_tokens': 87, 'total_tokens': 108, 'completion_tokens_details': {'accepted_prediction_tokens': 0, 'audio_tokens': 0, 'reasoning_tokens': 0, 'rejected_prediction_tokens': 0}, 'prompt_tokens_details': {'audio_tokens': 0, 'cached_tokens': 0}}, 'model_name': 'gpt-4o-mini-2024-07-18', 'system_fingerprint': 'fp_bd83329f63', 'finish_reason': 'tool_calls', 'logprobs': None}, id='run-1e9111b9-79b5-41dc-abab-6c97ca3a2008-0', tool_calls=[{'name': 'tavily_search_results_json', 'args': {'query': '현재 한국 대통령'}, 'id': 'call_nLqzRC4SHgcFLOYygzzfGOnF', 'type': 'tool_call'}], usage_metadata={'input_tokens': 87, 'output_tokens': 21, 'total_tokens': 108, 'input_token_details': {'audio': 0, 'cache_read': 0}, 'output_token_details': {'audio': 0, 'reasoning': 0}}),\n",
       "  ToolMessage(content='[{\"url\": \"https://namu.wiki/w/대한민국+대통령\", \"content\": \"대한민국 대통령은 대한민국의 대통령 기관(機關)·직위(職位) 및 이를 수행하는 인물을 가리킨다. 대한민국의 현직 대통령은 제20대 윤석열이며, 임기는 2022년 5월 10일부터 2027년 5월 9일까지이다. 다만 2024년 12월 14일 부터는 같은 날에 열린 윤석열 대통령 탄핵소추안이 가결되어 윤석열 대통령의\"}, {\"url\": \"https://ko.wikipedia.org/wiki/대한민국의_대통령_목록\", \"content\": \"개인 도구 대한민국의 대통령 목록 도구 위키백과, 우리 모두의 백과사전. 제9차 개헌 이후의 현행 헌법에 따라 대통령의 임기는 5년이며 중임할 수 없지만,[1] 제9차 개헌 이전의 여러 헌법에서는 대통령의 임기가 고정되지 않았으며, 그로 인해 대통령직을 수행한 개인과 대통령 임기의 대수가 불일치하게 되었다. (생몰년)   정당  대[b]    임기  선거 / 득표율[5] ↑ 가 나 2016년 헌법에 위배되는 박근혜-최순실 게이트, 비선실세 의혹, 대기업 뇌물 의혹 등을 사유로 박근혜에 대한 탄핵소추안이 국회에서 가결되었고, 대통령 권한이 정지되어 황교안 국무총리가 권한대행을 맡았다.[27] 결과적으로 2017년 3월 10일 박근혜는 헌법재판소에 의해 전원일치로 대통령직에서 파면되었다.[28][29] ↑ 허정 (1979). ↑ KBS 뉴스 (2004). ↑ KBS 뉴스 (2017). ↑ 중앙일보 후보자 정보 (윤석열). 14 김영삼15 김대중16 노무현17 이명박18 박근혜19 문재인20 윤석열 대한민국의 대통령과 3부요인 및 헌법기관장 분류: 알찬 목록 후보 문서대한민국의 대통령대한민국 정치에 관한 목록대통령 목록대한민국 사람 목록 위키백과 소개\"}]', name='tavily_search_results_json', id='18d36a09-5aa3-481a-b8f3-6cc1ab2ef6b1', tool_call_id='call_nLqzRC4SHgcFLOYygzzfGOnF', artifact={'query': '현재 한국 대통령', 'follow_up_questions': None, 'answer': None, 'images': [], 'results': [{'title': '대한민국 대통령 - 나무위키', 'url': 'https://namu.wiki/w/대한민국+대통령', 'content': '대한민국 대통령은 대한민국의 대통령 기관(機關)·직위(職位) 및 이를 수행하는 인물을 가리킨다. 대한민국의 현직 대통령은 제20대 윤석열이며, 임기는 2022년 5월 10일부터 2027년 5월 9일까지이다. 다만 2024년 12월 14일 부터는 같은 날에 열린 윤석열 대통령 탄핵소추안이 가결되어 윤석열 대통령의', 'score': 0.8131201, 'raw_content': None}, {'title': '대한민국의 대통령 목록 - 위키백과, 우리 모두의 백과사전', 'url': 'https://ko.wikipedia.org/wiki/대한민국의_대통령_목록', 'content': '개인 도구 대한민국의 대통령 목록 도구 위키백과, 우리 모두의 백과사전. 제9차 개헌 이후의 현행 헌법에 따라 대통령의 임기는 5년이며 중임할 수 없지만,[1] 제9차 개헌 이전의 여러 헌법에서는 대통령의 임기가 고정되지 않았으며, 그로 인해 대통령직을 수행한 개인과 대통령 임기의 대수가 불일치하게 되었다. (생몰년)   정당  대[b]    임기  선거 / 득표율[5] ↑ 가 나 2016년 헌법에 위배되는 박근혜-최순실 게이트, 비선실세 의혹, 대기업 뇌물 의혹 등을 사유로 박근혜에 대한 탄핵소추안이 국회에서 가결되었고, 대통령 권한이 정지되어 황교안 국무총리가 권한대행을 맡았다.[27] 결과적으로 2017년 3월 10일 박근혜는 헌법재판소에 의해 전원일치로 대통령직에서 파면되었다.[28][29] ↑ 허정 (1979). ↑ KBS 뉴스 (2004). ↑ KBS 뉴스 (2017). ↑ 중앙일보 후보자 정보 (윤석열). 14 김영삼15 김대중16 노무현17 이명박18 박근혜19 문재인20 윤석열 대한민국의 대통령과 3부요인 및 헌법기관장 분류: 알찬 목록 후보 문서대한민국의 대통령대한민국 정치에 관한 목록대통령 목록대한민국 사람 목록 위키백과 소개', 'score': 0.7382357, 'raw_content': None}], 'response_time': 1.65}),\n",
       "  AIMessage(content='현재 대한민국 대통령은 윤석열입니다. 그의 임기는 2022년 5월 10일부터 2027년 5월 9일까지입니다.', additional_kwargs={'refusal': None}, response_metadata={'token_usage': {'completion_tokens': 36, 'prompt_tokens': 637, 'total_tokens': 673, 'completion_tokens_details': {'accepted_prediction_tokens': 0, 'audio_tokens': 0, 'reasoning_tokens': 0, 'rejected_prediction_tokens': 0}, 'prompt_tokens_details': {'audio_tokens': 0, 'cached_tokens': 0}}, 'model_name': 'gpt-4o-mini-2024-07-18', 'system_fingerprint': 'fp_72ed7ab54c', 'finish_reason': 'stop', 'logprobs': None}, id='run-a397f587-a120-4b1d-ae2f-2373496e4d9b-0', usage_metadata={'input_tokens': 637, 'output_tokens': 36, 'total_tokens': 673, 'input_token_details': {'audio': 0, 'cache_read': 0}, 'output_token_details': {'audio': 0, 'reasoning': 0}})]}"
      ]
     },
     "execution_count": 6,
     "metadata": {},
     "output_type": "execute_result"
    }
   ],
   "source": [
    "graph.invoke({\"messages\": {\"role\": \"user\", \"content\": \"지금 한국 대통령은 누구야?\"}})"
   ]
  },
  {
   "cell_type": "code",
   "execution_count": 9,
   "metadata": {},
   "outputs": [
    {
     "data": {
      "text/plain": [
       "{'messages': [HumanMessage(content='마이크로소프트는 어떤 회사야?', additional_kwargs={}, response_metadata={}, id='e78ae2ba-0172-4be0-9d50-eb85fadae60c'),\n",
       "  AIMessage(content='마이크로소프트(Microsoft)는 미국의 다국적 기술 회사로, 소프트웨어, 하드웨어, 전자기기 및 서비스 분야에서 활동하고 있습니다. 1975년에 빌 게이츠(Bill Gates)와 폴 앨런(Paul Allen)에 의해 설립되었으며, 현재는 세계에서 가장 큰 소프트웨어 회사 중 하나로 알려져 있습니다.\\n\\n주요 제품 및 서비스에는 다음이 포함됩니다:\\n\\n1. **운영 체제**: Windows 운영 체제는 개인용 컴퓨터와 서버에서 널리 사용됩니다.\\n2. **오피스 소프트웨어**: Microsoft Office 제품군(Word, Excel, PowerPoint 등)은 비즈니스와 개인 사용자에게 널리 사용됩니다.\\n3. **클라우드 서비스**: Microsoft Azure는 클라우드 컴퓨팅 서비스로, 기업들이 데이터 저장 및 처리, 애플리케이션 호스팅 등을 할 수 있게 지원합니다.\\n4. **게임**: Xbox 게임 콘솔과 Xbox Live 서비스는 게임 산업에서도 중요한 역할을 하고 있습니다.\\n5. **하드웨어**: Surface 시리즈와 같은 태블릿 및 PC를 포함한 다양한 하드웨어 제품을 제공합니다.\\n\\n마이크로소프트는 기술 혁신, 인공지능, 클라우드 컴퓨팅, 그리고 다양한 소프트웨어 솔루션을 통해 전 세계적으로 큰 영향력을 미치고 있습니다.', additional_kwargs={'refusal': None}, response_metadata={'token_usage': {'completion_tokens': 299, 'prompt_tokens': 89, 'total_tokens': 388, 'completion_tokens_details': {'accepted_prediction_tokens': 0, 'audio_tokens': 0, 'reasoning_tokens': 0, 'rejected_prediction_tokens': 0}, 'prompt_tokens_details': {'audio_tokens': 0, 'cached_tokens': 0}}, 'model_name': 'gpt-4o-mini-2024-07-18', 'system_fingerprint': 'fp_72ed7ab54c', 'finish_reason': 'stop', 'logprobs': None}, id='run-9d33f9a4-a0f5-48b3-b142-d38a9cb6bd91-0', usage_metadata={'input_tokens': 89, 'output_tokens': 299, 'total_tokens': 388, 'input_token_details': {'audio': 0, 'cache_read': 0}, 'output_token_details': {'audio': 0, 'reasoning': 0}})]}"
      ]
     },
     "execution_count": 9,
     "metadata": {},
     "output_type": "execute_result"
    }
   ],
   "source": [
    "graph.invoke({\"messages\": {\"role\": \"user\", \"content\": \"마이크로소프트는 어떤 회사야?\"}})"
   ]
  }
 ],
 "metadata": {
  "kernelspec": {
   "display_name": "crewai",
   "language": "python",
   "name": "python3"
  },
  "language_info": {
   "codemirror_mode": {
    "name": "ipython",
    "version": 3
   },
   "file_extension": ".py",
   "mimetype": "text/x-python",
   "name": "python",
   "nbconvert_exporter": "python",
   "pygments_lexer": "ipython3",
   "version": "3.11.11"
  }
 },
 "nbformat": 4,
 "nbformat_minor": 2
}
