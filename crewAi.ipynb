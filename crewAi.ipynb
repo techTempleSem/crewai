{
 "cells": [
  {
   "cell_type": "code",
   "execution_count": null,
   "metadata": {},
   "outputs": [],
   "source": [
    "from crewai import Agent, Task, Crew\n",
    "from langchain_openai import ChatOpenAI\n",
    "import os\n",
    "from dotenv import load_dotenv\n",
    "load_dotenv()\n",
    "OPENAI_API_KEY = os.getenv(\"OPENAI_API_KEY\")\n",
    "\n",
    "os.environ['OPENAI_API_KEY']=OPENAI_API_KEY\n",
    "\n",
    "outline_generator = Agent(\n",
    "    role='Outline Generator',\n",
    "    goal='Create structured outlines for articles on given topics. Answer in Korean',\n",
    "    llm=ChatOpenAI(model = 'gpt-4o-mini', max_completion_tokens=1000),\n",
    "    backstory='You are an expert at organizing information and creating comprehensive outlines for various subjects.'\n",
    ")\n",
    "\n",
    "writer = Agent(\n",
    "    role='Writer',\n",
    "    goal='Create engaging content based on research. Answer in Korean',\n",
    "    llm=ChatOpenAI(model = 'gpt-4o', max_completion_tokens=3000),\n",
    "    backstory='You are a skilled writer who can transform complex information into readable content'\n",
    ")"
   ]
  },
  {
   "cell_type": "code",
   "execution_count": 2,
   "metadata": {},
   "outputs": [],
   "source": [
    "outline_task = Task(\n",
    "    description='Create a detailed outline for an article about AI\\'s impact on job markets',\n",
    "    agent=outline_generator,\n",
    "    expected_output=\"\"\"A comprehensive outline covering the main aspects of AI\\s\n",
    "    influence on employment\"\"\"\n",
    ")\n",
    "\n",
    "writer_task = Task(\n",
    "    description='Write an article about the findings from the research',\n",
    "    agent=writer,\n",
    "    expected_output='An engaging article discussing AI\\'s influence on job markets'\n",
    ")"
   ]
  },
  {
   "cell_type": "code",
   "execution_count": 3,
   "metadata": {},
   "outputs": [],
   "source": [
    "ai_impact_crew = Crew(\n",
    "    agents=[outline_generator, writer],\n",
    "    tasks=[outline_task, writer_task],\n",
    "    verbose=True\n",
    ")"
   ]
  },
  {
   "cell_type": "code",
   "execution_count": null,
   "metadata": {},
   "outputs": [],
   "source": [
    "result = ai_impact_crew.kickoff()\n",
    "\n",
    "print(result)"
   ]
  },
  {
   "cell_type": "code",
   "execution_count": null,
   "metadata": {},
   "outputs": [],
   "source": [
    "result"
   ]
  },
  {
   "cell_type": "code",
   "execution_count": null,
   "metadata": {},
   "outputs": [],
   "source": [
    "from crewai.process import Process\n",
    "\n",
    "ai_impact_crew = Crew(\n",
    "    agents=[outline_generator, writer],\n",
    "    tasks=[outline_task, writer_task],\n",
    "    verbose=True,\n",
    "    process=Process.sequential\n",
    ")"
   ]
  },
  {
   "cell_type": "code",
   "execution_count": null,
   "metadata": {},
   "outputs": [],
   "source": [
    "result = ai_impact_crew.kickoff()\n",
    "result"
   ]
  },
  {
   "cell_type": "code",
   "execution_count": null,
   "metadata": {},
   "outputs": [],
   "source": [
    "from IPython.display import display, Markdown, Latex\n",
    "display(Markdown(result.raw))"
   ]
  }
 ],
 "metadata": {
  "kernelspec": {
   "display_name": "base",
   "language": "python",
   "name": "python3"
  },
  "language_info": {
   "codemirror_mode": {
    "name": "ipython",
    "version": 3
   },
   "file_extension": ".py",
   "mimetype": "text/x-python",
   "name": "python",
   "nbconvert_exporter": "python",
   "pygments_lexer": "ipython3",
   "version": "3.11.11"
  }
 },
 "nbformat": 4,
 "nbformat_minor": 2
}
