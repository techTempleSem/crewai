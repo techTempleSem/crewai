{
 "cells": [
  {
   "cell_type": "code",
   "execution_count": 1,
   "metadata": {},
   "outputs": [],
   "source": [
    "import os\n",
    "import warnings\n",
    "from dotenv import load_dotenv\n",
    "load_dotenv()\n",
    "OPENAI_API_KEY = os.getenv(\"OPENAI_API_KEY\")\n",
    "SERPER_API_KEY = os.getenv(\"SERPER_API_KEY\")\n",
    "warnings.filterwarnings('ignore')\n",
    "\n",
    "os.environ[\"SERPER_API_KEY\"]=SERPER_API_KEY\n",
    "os.environ['OPENAI_API_KEY']=OPENAI_API_KEY"
   ]
  },
  {
   "cell_type": "code",
   "execution_count": 2,
   "metadata": {},
   "outputs": [],
   "source": [
    "from crewai import Agent, Task, Crew\n",
    "from crewai.process import Process\n",
    "\n",
    "from crewai_tools import (\n",
    "    SerperDevTool,\n",
    "    WebsiteSearchTool,\n",
    "    ScrapeWebsiteTool\n",
    ")"
   ]
  },
  {
   "cell_type": "code",
   "execution_count": 4,
   "metadata": {},
   "outputs": [],
   "source": [
    "from langchain_openai import ChatOpenAI\n",
    "\n",
    "llm = ChatOpenAI(model = \"gpt-4o-mini\")\n",
    "\n",
    "search_tool = SerperDevTool()\n",
    "web_rag_tool = WebsiteSearchTool()\n",
    "scrap_tool = ScrapeWebsiteTool()\n",
    "\n",
    "researcher = Agent(\n",
    "    role='테크 트랜드 연구원',\n",
    "    goal=\"인공지능 분야의 최신 기술 트랜드를 한국어로 제공합니다. 지금은 2024년 12월입니다.\",\n",
    "    backstory=\"기술 트랜드에 예리한 안목을 지닌 전문 분석가이자 AI 개발자입니다.\",\n",
    "    tools=[search_tool, web_rag_tool],\n",
    "    max_iter=5,\n",
    "    llm=llm\n",
    ")\n",
    "\n",
    "writer = Agent(\n",
    "    role='뉴스레터 작성자',\n",
    "    goal=\"최신 AI 기술 트랜드에 대한 매력적인 테크 뉴스레터를 한국어로 작성하세요. 지금은 2024년 12월입니다.\",\n",
    "    backstory='기술에 대한 열정을 가진 숙련된 작가입니다.',\n",
    "    verbose=True,\n",
    "    allow_delegation=False,\n",
    "    llm=llm\n",
    ")"
   ]
  },
  {
   "cell_type": "code",
   "execution_count": 7,
   "metadata": {},
   "outputs": [],
   "source": [
    "research = Task(\n",
    "    description=\"AI 업계의 최신 기술 동향을 조사하고 요약을 제공하세요\",\n",
    "    expected_output=\"AI 업계에서 가장 주목받는 3대 기술 개발 동향과 그 중요성에 대한 신선한 관점을 요약한 글\",\n",
    "    agent=researcher\n",
    ")\n",
    "\n",
    "write = Task(\n",
    "    description=\"\"\"테크 트랜드 연구원의 요약을 바탕으로 AI 산업에 대한 매력적인 테크 뉴스레터를 작성하세요.\n",
    "    테크 뉴스레터이므로 전문적인 용어를 사용해도 괜찮습니다.\"\"\",\n",
    "    expected_output=\"최신 기술 관련 소식을 재밌는 말투로 소개하는 4문단짜리 마크다운 형식 뉴스레터\",\n",
    "    agent=writer,\n",
    "    output_file='C:\\\\Users\\\\semte\\\\Desktop\\\\rag\\\\new_post.md'\n",
    ")"
   ]
  },
  {
   "cell_type": "code",
   "execution_count": 8,
   "metadata": {},
   "outputs": [],
   "source": [
    "crew = Crew(\n",
    "    agents=[researcher, writer],\n",
    "    tasks=[research, write],\n",
    "    verbose=True,\n",
    "    process=Process.sequential\n",
    ")"
   ]
  },
  {
   "cell_type": "code",
   "execution_count": null,
   "metadata": {},
   "outputs": [],
   "source": [
    "result = crew.kickoff()"
   ]
  }
 ],
 "metadata": {
  "kernelspec": {
   "display_name": "crewai",
   "language": "python",
   "name": "python3"
  },
  "language_info": {
   "codemirror_mode": {
    "name": "ipython",
    "version": 3
   },
   "file_extension": ".py",
   "mimetype": "text/x-python",
   "name": "python",
   "nbconvert_exporter": "python",
   "pygments_lexer": "ipython3",
   "version": "3.11.0"
  }
 },
 "nbformat": 4,
 "nbformat_minor": 2
}
